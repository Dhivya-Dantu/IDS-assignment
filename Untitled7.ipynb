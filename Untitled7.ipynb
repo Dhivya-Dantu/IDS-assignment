{
  "nbformat": 4,
  "nbformat_minor": 0,
  "metadata": {
    "colab": {
      "provenance": [],
      "mount_file_id": "1Alkl1A97_--lmeuEZJPhawNwAyKZcWkn",
      "authorship_tag": "ABX9TyPN1hwMl0zBFw+7l5nIWuUe",
      "include_colab_link": true
    },
    "kernelspec": {
      "name": "python3",
      "display_name": "Python 3"
    },
    "language_info": {
      "name": "python"
    }
  },
  "cells": [
    {
      "cell_type": "markdown",
      "metadata": {
        "id": "view-in-github",
        "colab_type": "text"
      },
      "source": [
        "<a href=\"https://colab.research.google.com/github/Dhivya-Dantu/IDS-assignment/blob/main/Untitled7.ipynb\" target=\"_parent\"><img src=\"https://colab.research.google.com/assets/colab-badge.svg\" alt=\"Open In Colab\"/></a>"
      ]
    },
    {
      "cell_type": "code",
      "execution_count": null,
      "metadata": {
        "colab": {
          "base_uri": "https://localhost:8080/",
          "height": 1000
        },
        "id": "9YyinKudTOow",
        "outputId": "056628d9-efcb-4b6b-92c9-9ce1f4de2028"
      },
      "outputs": [
        {
          "output_type": "stream",
          "name": "stdout",
          "text": [
            "fatal: destination path 'WEEK-2' already exists and is not an empty directory.\n",
            "Drive already mounted at /content/drive; to attempt to forcibly remount, call drive.mount(\"/content/drive\", force_remount=True).\n",
            "Found 52 files belonging to 6 classes.\n",
            "Using 42 files for training.\n",
            "Found 52 files belonging to 6 classes.\n",
            "Using 10 files for validation.\n",
            "Classes: ['cardboard', 'glass', 'metal', 'paper', 'plastic', 'trash']\n",
            "Class Weights: {0: np.float64(1.0), 1: np.float64(1.1666666666666667), 2: np.float64(1.0), 3: np.float64(1.1666666666666667), 4: np.float64(0.875), 5: np.float64(0.875)}\n",
            "Downloading data from https://storage.googleapis.com/tensorflow/keras-applications/efficientnet_v2/efficientnetv2-b0_notop.h5\n",
            "\u001b[1m24274472/24274472\u001b[0m \u001b[32m━━━━━━━━━━━━━━━━━━━━\u001b[0m\u001b[37m\u001b[0m \u001b[1m0s\u001b[0m 0us/step\n"
          ]
        },
        {
          "output_type": "display_data",
          "data": {
            "text/plain": [
              "\u001b[1mModel: \"sequential_1\"\u001b[0m\n"
            ],
            "text/html": [
              "<pre style=\"white-space:pre;overflow-x:auto;line-height:normal;font-family:Menlo,'DejaVu Sans Mono',consolas,'Courier New',monospace\"><span style=\"font-weight: bold\">Model: \"sequential_1\"</span>\n",
              "</pre>\n"
            ]
          },
          "metadata": {}
        },
        {
          "output_type": "display_data",
          "data": {
            "text/plain": [
              "┏━━━━━━━━━━━━━━━━━━━━━━━━━━━━━━━━━┳━━━━━━━━━━━━━━━━━━━━━━━━┳━━━━━━━━━━━━━━━┓\n",
              "┃\u001b[1m \u001b[0m\u001b[1mLayer (type)                   \u001b[0m\u001b[1m \u001b[0m┃\u001b[1m \u001b[0m\u001b[1mOutput Shape          \u001b[0m\u001b[1m \u001b[0m┃\u001b[1m \u001b[0m\u001b[1m      Param #\u001b[0m\u001b[1m \u001b[0m┃\n",
              "┡━━━━━━━━━━━━━━━━━━━━━━━━━━━━━━━━━╇━━━━━━━━━━━━━━━━━━━━━━━━╇━━━━━━━━━━━━━━━┩\n",
              "│ sequential (\u001b[38;5;33mSequential\u001b[0m)         │ (\u001b[38;5;45mNone\u001b[0m, \u001b[38;5;34m256\u001b[0m, \u001b[38;5;34m256\u001b[0m, \u001b[38;5;34m3\u001b[0m)    │             \u001b[38;5;34m0\u001b[0m │\n",
              "├─────────────────────────────────┼────────────────────────┼───────────────┤\n",
              "│ rescaling_1 (\u001b[38;5;33mRescaling\u001b[0m)         │ (\u001b[38;5;45mNone\u001b[0m, \u001b[38;5;34m256\u001b[0m, \u001b[38;5;34m256\u001b[0m, \u001b[38;5;34m3\u001b[0m)    │             \u001b[38;5;34m0\u001b[0m │\n",
              "├─────────────────────────────────┼────────────────────────┼───────────────┤\n",
              "│ efficientnetv2-b0 (\u001b[38;5;33mFunctional\u001b[0m)  │ (\u001b[38;5;45mNone\u001b[0m, \u001b[38;5;34m8\u001b[0m, \u001b[38;5;34m8\u001b[0m, \u001b[38;5;34m1280\u001b[0m)     │     \u001b[38;5;34m5,919,312\u001b[0m │\n",
              "├─────────────────────────────────┼────────────────────────┼───────────────┤\n",
              "│ global_average_pooling2d        │ (\u001b[38;5;45mNone\u001b[0m, \u001b[38;5;34m1280\u001b[0m)           │             \u001b[38;5;34m0\u001b[0m │\n",
              "│ (\u001b[38;5;33mGlobalAveragePooling2D\u001b[0m)        │                        │               │\n",
              "├─────────────────────────────────┼────────────────────────┼───────────────┤\n",
              "│ dropout (\u001b[38;5;33mDropout\u001b[0m)               │ (\u001b[38;5;45mNone\u001b[0m, \u001b[38;5;34m1280\u001b[0m)           │             \u001b[38;5;34m0\u001b[0m │\n",
              "├─────────────────────────────────┼────────────────────────┼───────────────┤\n",
              "│ dense (\u001b[38;5;33mDense\u001b[0m)                   │ (\u001b[38;5;45mNone\u001b[0m, \u001b[38;5;34m6\u001b[0m)              │         \u001b[38;5;34m7,686\u001b[0m │\n",
              "└─────────────────────────────────┴────────────────────────┴───────────────┘\n"
            ],
            "text/html": [
              "<pre style=\"white-space:pre;overflow-x:auto;line-height:normal;font-family:Menlo,'DejaVu Sans Mono',consolas,'Courier New',monospace\">┏━━━━━━━━━━━━━━━━━━━━━━━━━━━━━━━━━┳━━━━━━━━━━━━━━━━━━━━━━━━┳━━━━━━━━━━━━━━━┓\n",
              "┃<span style=\"font-weight: bold\"> Layer (type)                    </span>┃<span style=\"font-weight: bold\"> Output Shape           </span>┃<span style=\"font-weight: bold\">       Param # </span>┃\n",
              "┡━━━━━━━━━━━━━━━━━━━━━━━━━━━━━━━━━╇━━━━━━━━━━━━━━━━━━━━━━━━╇━━━━━━━━━━━━━━━┩\n",
              "│ sequential (<span style=\"color: #0087ff; text-decoration-color: #0087ff\">Sequential</span>)         │ (<span style=\"color: #00d7ff; text-decoration-color: #00d7ff\">None</span>, <span style=\"color: #00af00; text-decoration-color: #00af00\">256</span>, <span style=\"color: #00af00; text-decoration-color: #00af00\">256</span>, <span style=\"color: #00af00; text-decoration-color: #00af00\">3</span>)    │             <span style=\"color: #00af00; text-decoration-color: #00af00\">0</span> │\n",
              "├─────────────────────────────────┼────────────────────────┼───────────────┤\n",
              "│ rescaling_1 (<span style=\"color: #0087ff; text-decoration-color: #0087ff\">Rescaling</span>)         │ (<span style=\"color: #00d7ff; text-decoration-color: #00d7ff\">None</span>, <span style=\"color: #00af00; text-decoration-color: #00af00\">256</span>, <span style=\"color: #00af00; text-decoration-color: #00af00\">256</span>, <span style=\"color: #00af00; text-decoration-color: #00af00\">3</span>)    │             <span style=\"color: #00af00; text-decoration-color: #00af00\">0</span> │\n",
              "├─────────────────────────────────┼────────────────────────┼───────────────┤\n",
              "│ efficientnetv2-b0 (<span style=\"color: #0087ff; text-decoration-color: #0087ff\">Functional</span>)  │ (<span style=\"color: #00d7ff; text-decoration-color: #00d7ff\">None</span>, <span style=\"color: #00af00; text-decoration-color: #00af00\">8</span>, <span style=\"color: #00af00; text-decoration-color: #00af00\">8</span>, <span style=\"color: #00af00; text-decoration-color: #00af00\">1280</span>)     │     <span style=\"color: #00af00; text-decoration-color: #00af00\">5,919,312</span> │\n",
              "├─────────────────────────────────┼────────────────────────┼───────────────┤\n",
              "│ global_average_pooling2d        │ (<span style=\"color: #00d7ff; text-decoration-color: #00d7ff\">None</span>, <span style=\"color: #00af00; text-decoration-color: #00af00\">1280</span>)           │             <span style=\"color: #00af00; text-decoration-color: #00af00\">0</span> │\n",
              "│ (<span style=\"color: #0087ff; text-decoration-color: #0087ff\">GlobalAveragePooling2D</span>)        │                        │               │\n",
              "├─────────────────────────────────┼────────────────────────┼───────────────┤\n",
              "│ dropout (<span style=\"color: #0087ff; text-decoration-color: #0087ff\">Dropout</span>)               │ (<span style=\"color: #00d7ff; text-decoration-color: #00d7ff\">None</span>, <span style=\"color: #00af00; text-decoration-color: #00af00\">1280</span>)           │             <span style=\"color: #00af00; text-decoration-color: #00af00\">0</span> │\n",
              "├─────────────────────────────────┼────────────────────────┼───────────────┤\n",
              "│ dense (<span style=\"color: #0087ff; text-decoration-color: #0087ff\">Dense</span>)                   │ (<span style=\"color: #00d7ff; text-decoration-color: #00d7ff\">None</span>, <span style=\"color: #00af00; text-decoration-color: #00af00\">6</span>)              │         <span style=\"color: #00af00; text-decoration-color: #00af00\">7,686</span> │\n",
              "└─────────────────────────────────┴────────────────────────┴───────────────┘\n",
              "</pre>\n"
            ]
          },
          "metadata": {}
        },
        {
          "output_type": "display_data",
          "data": {
            "text/plain": [
              "\u001b[1m Total params: \u001b[0m\u001b[38;5;34m5,926,998\u001b[0m (22.61 MB)\n"
            ],
            "text/html": [
              "<pre style=\"white-space:pre;overflow-x:auto;line-height:normal;font-family:Menlo,'DejaVu Sans Mono',consolas,'Courier New',monospace\"><span style=\"font-weight: bold\"> Total params: </span><span style=\"color: #00af00; text-decoration-color: #00af00\">5,926,998</span> (22.61 MB)\n",
              "</pre>\n"
            ]
          },
          "metadata": {}
        },
        {
          "output_type": "display_data",
          "data": {
            "text/plain": [
              "\u001b[1m Trainable params: \u001b[0m\u001b[38;5;34m7,686\u001b[0m (30.02 KB)\n"
            ],
            "text/html": [
              "<pre style=\"white-space:pre;overflow-x:auto;line-height:normal;font-family:Menlo,'DejaVu Sans Mono',consolas,'Courier New',monospace\"><span style=\"font-weight: bold\"> Trainable params: </span><span style=\"color: #00af00; text-decoration-color: #00af00\">7,686</span> (30.02 KB)\n",
              "</pre>\n"
            ]
          },
          "metadata": {}
        },
        {
          "output_type": "display_data",
          "data": {
            "text/plain": [
              "\u001b[1m Non-trainable params: \u001b[0m\u001b[38;5;34m5,919,312\u001b[0m (22.58 MB)\n"
            ],
            "text/html": [
              "<pre style=\"white-space:pre;overflow-x:auto;line-height:normal;font-family:Menlo,'DejaVu Sans Mono',consolas,'Courier New',monospace\"><span style=\"font-weight: bold\"> Non-trainable params: </span><span style=\"color: #00af00; text-decoration-color: #00af00\">5,919,312</span> (22.58 MB)\n",
              "</pre>\n"
            ]
          },
          "metadata": {}
        },
        {
          "output_type": "stream",
          "name": "stdout",
          "text": [
            "Epoch 1/15\n",
            "\u001b[1m2/2\u001b[0m \u001b[32m━━━━━━━━━━━━━━━━━━━━\u001b[0m\u001b[37m\u001b[0m \u001b[1m28s\u001b[0m 8s/step - accuracy: 0.1736 - loss: 1.7955\n",
            "Epoch 2/15\n"
          ]
        },
        {
          "output_type": "stream",
          "name": "stderr",
          "text": [
            "/usr/local/lib/python3.11/dist-packages/keras/src/trainers/epoch_iterator.py:151: UserWarning: Your input ran out of data; interrupting training. Make sure that your dataset or generator can generate at least `steps_per_epoch * epochs` batches. You may need to use the `.repeat()` function when building your dataset.\n",
            "  self._interrupted_warning()\n"
          ]
        },
        {
          "output_type": "stream",
          "name": "stdout",
          "text": [
            "\u001b[1m2/2\u001b[0m \u001b[32m━━━━━━━━━━━━━━━━━━━━\u001b[0m\u001b[37m\u001b[0m \u001b[1m11s\u001b[0m 776ms/step - accuracy: 0.2103 - loss: 1.8125\n",
            "Epoch 3/15\n",
            "\u001b[1m2/2\u001b[0m \u001b[32m━━━━━━━━━━━━━━━━━━━━\u001b[0m\u001b[37m\u001b[0m \u001b[1m10s\u001b[0m 6s/step - accuracy: 0.1736 - loss: 1.8203\n",
            "Epoch 4/15\n",
            "\u001b[1m2/2\u001b[0m \u001b[32m━━━━━━━━━━━━━━━━━━━━\u001b[0m\u001b[37m\u001b[0m \u001b[1m5s\u001b[0m 765ms/step - accuracy: 0.1577 - loss: 1.7753\n",
            "Epoch 5/15\n",
            "\u001b[1m2/2\u001b[0m \u001b[32m━━━━━━━━━━━━━━━━━━━━\u001b[0m\u001b[37m\u001b[0m \u001b[1m5s\u001b[0m 2s/step - accuracy: 0.1736 - loss: 1.7991\n",
            "Epoch 6/15\n",
            "\u001b[1m2/2\u001b[0m \u001b[32m━━━━━━━━━━━━━━━━━━━━\u001b[0m\u001b[37m\u001b[0m \u001b[1m8s\u001b[0m 757ms/step - accuracy: 0.1577 - loss: 1.7620\n",
            "Epoch 7/15\n",
            "\u001b[1m2/2\u001b[0m \u001b[32m━━━━━━━━━━━━━━━━━━━━\u001b[0m\u001b[37m\u001b[0m \u001b[1m5s\u001b[0m 4s/step - accuracy: 0.1921 - loss: 1.7936\n",
            "Epoch 8/15\n",
            "\u001b[1m2/2\u001b[0m \u001b[32m━━━━━━━━━━━━━━━━━━━━\u001b[0m\u001b[37m\u001b[0m \u001b[1m3s\u001b[0m 3s/step - accuracy: 0.1952 - loss: 1.7660\n",
            "Epoch 9/15\n",
            "\u001b[1m2/2\u001b[0m \u001b[32m━━━━━━━━━━━━━━━━━━━━\u001b[0m\u001b[37m\u001b[0m \u001b[1m5s\u001b[0m 767ms/step - accuracy: 0.3105 - loss: 1.7952\n",
            "Epoch 10/15\n",
            "\u001b[1m2/2\u001b[0m \u001b[32m━━━━━━━━━━━━━━━━━━━━\u001b[0m\u001b[37m\u001b[0m \u001b[1m7s\u001b[0m 802ms/step - accuracy: 0.0947 - loss: 1.8242\n",
            "Epoch 11/15\n",
            "\u001b[1m2/2\u001b[0m \u001b[32m━━━━━━━━━━━━━━━━━━━━\u001b[0m\u001b[37m\u001b[0m \u001b[1m3s\u001b[0m 756ms/step - accuracy: 0.2054 - loss: 1.8427\n",
            "Epoch 12/15\n",
            "\u001b[1m2/2\u001b[0m \u001b[32m━━━━━━━━━━━━━━━━━━━━\u001b[0m\u001b[37m\u001b[0m \u001b[1m5s\u001b[0m 3s/step - accuracy: 0.0968 - loss: 1.7990\n",
            "Epoch 13/15\n",
            "\u001b[1m2/2\u001b[0m \u001b[32m━━━━━━━━━━━━━━━━━━━━\u001b[0m\u001b[37m\u001b[0m \u001b[1m6s\u001b[0m 3s/step - accuracy: 0.1460 - loss: 1.8290\n",
            "Epoch 14/15\n",
            "\u001b[1m2/2\u001b[0m \u001b[32m━━━━━━━━━━━━━━━━━━━━\u001b[0m\u001b[37m\u001b[0m \u001b[1m5s\u001b[0m 4s/step - accuracy: 0.0952 - loss: 1.8365\n",
            "Epoch 15/15\n",
            "\u001b[1m2/2\u001b[0m \u001b[32m━━━━━━━━━━━━━━━━━━━━\u001b[0m\u001b[37m\u001b[0m \u001b[1m3s\u001b[0m 740ms/step - accuracy: 0.2634 - loss: 1.7961\n",
            "\u001b[1m1/1\u001b[0m \u001b[32m━━━━━━━━━━━━━━━━━━━━\u001b[0m\u001b[37m\u001b[0m \u001b[1m1s\u001b[0m 1s/step - accuracy: 0.1000 - loss: 1.7884\n",
            "Test Accuracy: 0.10\n"
          ]
        },
        {
          "output_type": "error",
          "ename": "KeyError",
          "evalue": "'val_accuracy'",
          "traceback": [
            "\u001b[0;31m---------------------------------------------------------------------------\u001b[0m",
            "\u001b[0;31mKeyError\u001b[0m                                  Traceback (most recent call last)",
            "\u001b[0;32m/tmp/ipython-input-4-3035408944.py\u001b[0m in \u001b[0;36m<cell line: 0>\u001b[0;34m()\u001b[0m\n\u001b[1;32m    123\u001b[0m \u001b[0mplt\u001b[0m\u001b[0;34m.\u001b[0m\u001b[0msubplot\u001b[0m\u001b[0;34m(\u001b[0m\u001b[0;36m1\u001b[0m\u001b[0;34m,\u001b[0m \u001b[0;36m2\u001b[0m\u001b[0;34m,\u001b[0m \u001b[0;36m1\u001b[0m\u001b[0;34m)\u001b[0m\u001b[0;34m\u001b[0m\u001b[0;34m\u001b[0m\u001b[0m\n\u001b[1;32m    124\u001b[0m \u001b[0mplt\u001b[0m\u001b[0;34m.\u001b[0m\u001b[0mplot\u001b[0m\u001b[0;34m(\u001b[0m\u001b[0mhistory\u001b[0m\u001b[0;34m.\u001b[0m\u001b[0mhistory\u001b[0m\u001b[0;34m[\u001b[0m\u001b[0;34m'accuracy'\u001b[0m\u001b[0;34m]\u001b[0m\u001b[0;34m,\u001b[0m \u001b[0mlabel\u001b[0m\u001b[0;34m=\u001b[0m\u001b[0;34m'Train Acc'\u001b[0m\u001b[0;34m)\u001b[0m\u001b[0;34m\u001b[0m\u001b[0;34m\u001b[0m\u001b[0m\n\u001b[0;32m--> 125\u001b[0;31m \u001b[0mplt\u001b[0m\u001b[0;34m.\u001b[0m\u001b[0mplot\u001b[0m\u001b[0;34m(\u001b[0m\u001b[0mhistory\u001b[0m\u001b[0;34m.\u001b[0m\u001b[0mhistory\u001b[0m\u001b[0;34m[\u001b[0m\u001b[0;34m'val_accuracy'\u001b[0m\u001b[0;34m]\u001b[0m\u001b[0;34m,\u001b[0m \u001b[0mlabel\u001b[0m\u001b[0;34m=\u001b[0m\u001b[0;34m'Val Acc'\u001b[0m\u001b[0;34m)\u001b[0m\u001b[0;34m\u001b[0m\u001b[0;34m\u001b[0m\u001b[0m\n\u001b[0m\u001b[1;32m    126\u001b[0m \u001b[0mplt\u001b[0m\u001b[0;34m.\u001b[0m\u001b[0mtitle\u001b[0m\u001b[0;34m(\u001b[0m\u001b[0;34m'Accuracy'\u001b[0m\u001b[0;34m)\u001b[0m\u001b[0;34m\u001b[0m\u001b[0;34m\u001b[0m\u001b[0m\n\u001b[1;32m    127\u001b[0m \u001b[0mplt\u001b[0m\u001b[0;34m.\u001b[0m\u001b[0mlegend\u001b[0m\u001b[0;34m(\u001b[0m\u001b[0;34m)\u001b[0m\u001b[0;34m\u001b[0m\u001b[0;34m\u001b[0m\u001b[0m\n",
            "\u001b[0;31mKeyError\u001b[0m: 'val_accuracy'"
          ]
        },
        {
          "output_type": "display_data",
          "data": {
            "text/plain": [
              "<Figure size 1200x500 with 1 Axes>"
            ],
            "image/png": "[encoded data removed]"
          },
          "metadata": {}
        }
      ],
      "source": [
        "# STEP 1: Clone your GitHub repo\n",
        "!git clone https://github.com/Snehithakatha/WEEK-2.git\n",
        "\n",
        "# STEP 2: Mount Google Drive\n",
        "from google.colab import drive\n",
        "drive.mount('/content/drive')\n",
        "\n",
        "# STEP 3: Import Libraries\n",
        "import os\n",
        "import numpy as np\n",
        "import tensorflow as tf\n",
        "import matplotlib.pyplot as plt\n",
        "import seaborn as sns\n",
        "from tensorflow.keras import layers, models\n",
        "from sklearn.utils.class_weight import compute_class_weight\n",
        "from sklearn.metrics import confusion_matrix, classification_report\n",
        "\n",
        "# STEP 4: Dataset Path & Settings\n",
        "dataset_dir = '/content/drive/MyDrive/garbage/TrashType_Image_Dataset/TrashType_Image_Dataset'\n",
        "image_size = (256, 256)\n",
        "batch_size = 32\n",
        "seed = 42\n",
        "\n",
        "# STEP 5: Load Dataset\n",
        "train_ds = tf.keras.utils.image_dataset_from_directory(\n",
        "    dataset_dir,\n",
        "    validation_split=0.2,\n",
        "    subset=\"training\",\n",
        "    seed=seed,\n",
        "    image_size=image_size,\n",
        "    batch_size=batch_size\n",
        ")\n",
        "\n",
        "val_ds = tf.keras.utils.image_dataset_from_directory(\n",
        "    dataset_dir,\n",
        "    validation_split=0.2,\n",
        "    subset=\"validation\",\n",
        "    seed=seed,\n",
        "    image_size=image_size,\n",
        "    batch_size=batch_size\n",
        ")\n",
        "\n",
        "class_names = train_ds.class_names\n",
        "num_classes = len(class_names)\n",
        "print(\"Classes:\", class_names)\n",
        "\n",
        "# STEP 6: Split val_ds into val and test\n",
        "val_batches = tf.data.experimental.cardinality(val_ds).numpy()\n",
        "test_ds = val_ds.take(max(1, val_batches // 2))\n",
        "val_ds = val_ds.skip(max(1, val_batches // 2))\n",
        "\n",
        "# STEP 7: Improve performance\n",
        "train_ds = train_ds.cache().shuffle(1000).prefetch(tf.data.AUTOTUNE)\n",
        "val_ds = val_ds.cache().prefetch(tf.data.AUTOTUNE)\n",
        "test_ds = test_ds.cache().prefetch(tf.data.AUTOTUNE)\n",
        "\n",
        "# STEP 8: Class Weights\n",
        "all_labels = []\n",
        "for _, labels in train_ds:\n",
        "    all_labels.extend(labels.numpy())\n",
        "\n",
        "class_weights = {\n",
        "    i: w for i, w in enumerate(\n",
        "        compute_class_weight(\n",
        "            class_weight=\"balanced\",\n",
        "            classes=np.unique(all_labels),\n",
        "            y=all_labels\n",
        "        )\n",
        "    )\n",
        "}\n",
        "print(\"Class Weights:\", class_weights)\n",
        "\n",
        "# STEP 9: Data Augmentation\n",
        "data_augmentation = models.Sequential([\n",
        "    layers.RandomFlip(\"horizontal\"),\n",
        "    layers.RandomRotation(0.15),\n",
        "    layers.RandomZoom(0.2),\n",
        "    layers.RandomTranslation(0.1, 0.1),\n",
        "    layers.RandomContrast(0.1),\n",
        "    layers.RandomBrightness(0.2)\n",
        "])\n",
        "\n",
        "# STEP 10: Build Model with EfficientNetV2B0\n",
        "base_model = tf.keras.applications.EfficientNetV2B0(\n",
        "    include_top=False,\n",
        "    input_shape=(256, 256, 3),\n",
        "    weights='imagenet'\n",
        ")\n",
        "base_model.trainable = False\n",
        "\n",
        "model = models.Sequential([\n",
        "    layers.Input(shape=(256, 256, 3)),\n",
        "    data_augmentation,\n",
        "    layers.Rescaling(1./255),\n",
        "    base_model,\n",
        "    layers.GlobalAveragePooling2D(),\n",
        "    layers.Dropout(0.3),\n",
        "    layers.Dense(num_classes, activation='softmax')\n",
        "])\n",
        "\n",
        "model.compile(\n",
        "    optimizer=tf.keras.optimizers.Adam(1e-4),\n",
        "    loss='sparse_categorical_crossentropy',\n",
        "    metrics=['accuracy']\n",
        ")\n",
        "\n",
        "model.summary()\n",
        "\n",
        "# STEP 11: Train Model\n",
        "history = model.fit(\n",
        "    train_ds,\n",
        "    validation_data=val_ds,\n",
        "    epochs=15,\n",
        "    class_weight=class_weights\n",
        ")\n",
        "\n",
        "# STEP 12: Evaluate\n",
        "test_loss, test_acc = model.evaluate(test_ds)\n",
        "print(f\"Test Accuracy: {test_acc:.2f}\")\n",
        "\n",
        "# STEP 13: Plot Accuracy & Loss\n",
        "plt.figure(figsize=(12, 5))\n",
        "plt.subplot(1, 2, 1)\n",
        "plt.plot(history.history['accuracy'], label='Train Acc')\n",
        "plt.plot(history.history['val_accuracy'], label='Val Acc')\n",
        "plt.title('Accuracy')\n",
        "plt.legend()\n",
        "\n",
        "plt.subplot(1, 2, 2)\n",
        "plt.plot(history.history['loss'], label='Train Loss')\n",
        "plt.plot(history.history['val_loss'], label='Val Loss')\n",
        "plt.title('Loss')\n",
        "plt.legend()\n",
        "plt.show()\n",
        "\n",
        "# STEP 14: Confusion Matrix\n",
        "y_true = []\n",
        "y_pred = []\n",
        "for images, labels in test_ds:\n",
        "    preds = model.predict(images)\n",
        "    y_true.extend(labels.numpy())\n",
        "    y_pred.extend(np.argmax(preds, axis=1))\n",
        "\n",
        "cm = confusion_matrix(y_true, y_pred)\n",
        "sns.heatmap(cm, annot=True, fmt='d', cmap='Blues', xticklabels=class_names, yticklabels=class_names)\n",
        "plt.xlabel(\"Predicted\")\n",
        "plt.ylabel(\"True\")\n",
        "plt.title(\"Confusion Matrix\")\n",
        "plt.show()\n",
        "\n",
        "print(classification_report(y_true, y_pred, target_names=class_names))\n",
        "\n",
        "\n"
      ]
    },
    {
      "cell_type": "code",
      "source": [
        "import cv2\n",
        "\n",
        "def get_img_array(img_path):\n",
        "    img = tf.keras.utils.load_img(img_path, target_size=image_size)\n",
        "    array = tf.keras.utils.img_to_array(img)\n",
        "    array = np.expand_dims(array, axis=0)\n",
        "    return array / 255.0\n",
        "\n",
        "\n"
      ],
      "metadata": {
        "id": "SfqtPPKcbvVW"
      },
      "execution_count": null,
      "outputs": []
    },
    {
      "cell_type": "code",
      "source": [
        "def make_gradcam_heatmap(img_array, model, last_conv_layer_name, pred_index=None):\n",
        "    grad_model = tf.keras.models.Model(\n",
        "        [model.inputs], [model.get_layer(last_conv_layer_name).output, model.output]\n",
        "    )\n",
        "    with tf.GradientTape() as tape:\n",
        "        conv_outputs, predictions = grad_model(img_array)\n",
        "        if pred_index is None:\n",
        "            pred_index = tf.argmax(predictions[0])\n",
        "        class_channel = predictions[:, pred_index]\n",
        "\n",
        "    grads = tape.gradient(class_channel, conv_outputs)\n",
        "    pooled_grads = tf.reduce_mean(grads, axis=(0, 1, 2))\n",
        "    conv_outputs = conv_outputs[0]\n",
        "\n",
        "    heatmap = conv_outputs @ pooled_grads[..., tf.newaxis]\n",
        "    heatmap = tf.squeeze(heatmap)\n",
        "    heatmap = tf.maximum(heatmap, 0) / tf.math.reduce_max(heatmap)\n",
        "    return heatmap.numpy()"
      ],
      "metadata": {
        "id": "z0-_nHGUb0j9"
      },
      "execution_count": null,
      "outputs": []
    },
    {
      "cell_type": "code",
      "source": [
        "from tensorflow import keras\n",
        "from tensorflow.keras import layers\n"
      ],
      "metadata": {
        "id": "-kLVoVYQb2PW"
      },
      "execution_count": null,
      "outputs": []
    },
    {
      "cell_type": "code",
      "source": [
        "base_model = tf.keras.applications.EfficientNetV2B0(\n",
        "    include_top=False,\n",
        "    weights='imagenet',\n",
        "    input_shape=(256, 256, 3)\n",
        ")\n",
        "base_model.trainable = False\n",
        "\n",
        "model = keras.Sequential([\n",
        "    layers.Rescaling(1./255),\n",
        "    base_model,\n",
        "    layers.GlobalAveragePooling2D(),\n",
        "    layers.Dropout(0.2),\n",
        "    layers.Dense(len(class_names), activation='softmax')\n",
        "])\n"
      ],
      "metadata": {
        "id": "waDddQKQb8zk"
      },
      "execution_count": null,
      "outputs": []
    },
    {
      "cell_type": "code",
      "source": [
        "for i, layer in enumerate(base_model.layers):\n",
        "    shape = getattr(layer, 'output_shape', None)\n",
        "    if shape is None and hasattr(layer, 'batch_input_shape'):\n",
        "        shape = layer.batch_input_shape\n",
        "    print(i, layer.name, shape)\n"
      ],
      "metadata": {
        "colab": {
          "base_uri": "https://localhost:8080/"
        },
        "id": "UMfOrJwacDAK",
        "outputId": "4db2463a-0ad2-4ff9-dce9-7032461c454e"
      },
      "execution_count": null,
      "outputs": [
        {
          "output_type": "stream",
          "name": "stdout",
          "text": [
            "0 input_layer_3 None\n",
            "1 rescaling_2 None\n",
            "2 normalization_1 None\n",
            "3 stem_conv None\n",
            "4 stem_bn None\n",
            "5 stem_activation None\n",
            "6 block1a_project_conv None\n",
            "7 block1a_project_bn None\n",
            "8 block1a_project_activation None\n",
            "9 block2a_expand_conv None\n",
            "10 block2a_expand_bn None\n",
            "11 block2a_expand_activation None\n",
            "12 block2a_project_conv None\n",
            "13 block2a_project_bn None\n",
            "14 block2b_expand_conv None\n",
            "15 block2b_expand_bn None\n",
            "16 block2b_expand_activation None\n",
            "17 block2b_project_conv None\n",
            "18 block2b_project_bn None\n",
            "19 block2b_drop None\n",
            "20 block2b_add None\n",
            "21 block3a_expand_conv None\n",
            "22 block3a_expand_bn None\n",
            "23 block3a_expand_activation None\n",
            "24 block3a_project_conv None\n",
            "25 block3a_project_bn None\n",
            "26 block3b_expand_conv None\n",
            "27 block3b_expand_bn None\n",
            "28 block3b_expand_activation None\n",
            "29 block3b_project_conv None\n",
            "30 block3b_project_bn None\n",
            "31 block3b_drop None\n",
            "32 block3b_add None\n",
            "33 block4a_expand_conv None\n",
            "34 block4a_expand_bn None\n",
            "35 block4a_expand_activation None\n",
            "36 block4a_dwconv2 None\n",
            "37 block4a_bn None\n",
            "38 block4a_activation None\n",
            "39 block4a_se_squeeze None\n",
            "40 block4a_se_reshape None\n",
            "41 block4a_se_reduce None\n",
            "42 block4a_se_expand None\n",
            "43 block4a_se_excite None\n",
            "44 block4a_project_conv None\n",
            "45 block4a_project_bn None\n",
            "46 block4b_expand_conv None\n",
            "47 block4b_expand_bn None\n",
            "48 block4b_expand_activation None\n",
            "49 block4b_dwconv2 None\n",
            "50 block4b_bn None\n",
            "51 block4b_activation None\n",
            "52 block4b_se_squeeze None\n",
            "53 block4b_se_reshape None\n",
            "54 block4b_se_reduce None\n",
            "55 block4b_se_expand None\n",
            "56 block4b_se_excite None\n",
            "57 block4b_project_conv None\n",
            "58 block4b_project_bn None\n",
            "59 block4b_drop None\n",
            "60 block4b_add None\n",
            "61 block4c_expand_conv None\n",
            "62 block4c_expand_bn None\n",
            "63 block4c_expand_activation None\n",
            "64 block4c_dwconv2 None\n",
            "65 block4c_bn None\n",
            "66 block4c_activation None\n",
            "67 block4c_se_squeeze None\n",
            "68 block4c_se_reshape None\n",
            "69 block4c_se_reduce None\n",
            "70 block4c_se_expand None\n",
            "71 block4c_se_excite None\n",
            "72 block4c_project_conv None\n",
            "73 block4c_project_bn None\n",
            "74 block4c_drop None\n",
            "75 block4c_add None\n",
            "76 block5a_expand_conv None\n",
            "77 block5a_expand_bn None\n",
            "78 block5a_expand_activation None\n",
            "79 block5a_dwconv2 None\n",
            "80 block5a_bn None\n",
            "81 block5a_activation None\n",
            "82 block5a_se_squeeze None\n",
            "83 block5a_se_reshape None\n",
            "84 block5a_se_reduce None\n",
            "85 block5a_se_expand None\n",
            "86 block5a_se_excite None\n",
            "87 block5a_project_conv None\n",
            "88 block5a_project_bn None\n",
            "89 block5b_expand_conv None\n",
            "90 block5b_expand_bn None\n",
            "91 block5b_expand_activation None\n",
            "92 block5b_dwconv2 None\n",
            "93 block5b_bn None\n",
            "94 block5b_activation None\n",
            "95 block5b_se_squeeze None\n",
            "96 block5b_se_reshape None\n",
            "97 block5b_se_reduce None\n",
            "98 block5b_se_expand None\n",
            "99 block5b_se_excite None\n",
            "100 block5b_project_conv None\n",
            "101 block5b_project_bn None\n",
            "102 block5b_drop None\n",
            "103 block5b_add None\n",
            "104 block5c_expand_conv None\n",
            "105 block5c_expand_bn None\n",
            "106 block5c_expand_activation None\n",
            "107 block5c_dwconv2 None\n",
            "108 block5c_bn None\n",
            "109 block5c_activation None\n",
            "110 block5c_se_squeeze None\n",
            "111 block5c_se_reshape None\n",
            "112 block5c_se_reduce None\n",
            "113 block5c_se_expand None\n",
            "114 block5c_se_excite None\n",
            "115 block5c_project_conv None\n",
            "116 block5c_project_bn None\n",
            "117 block5c_drop None\n",
            "118 block5c_add None\n",
            "119 block5d_expand_conv None\n",
            "120 block5d_expand_bn None\n",
            "121 block5d_expand_activation None\n",
            "122 block5d_dwconv2 None\n",
            "123 block5d_bn None\n",
            "124 block5d_activation None\n",
            "125 block5d_se_squeeze None\n",
            "126 block5d_se_reshape None\n",
            "127 block5d_se_reduce None\n",
            "128 block5d_se_expand None\n",
            "129 block5d_se_excite None\n",
            "130 block5d_project_conv None\n",
            "131 block5d_project_bn None\n",
            "132 block5d_drop None\n",
            "133 block5d_add None\n",
            "134 block5e_expand_conv None\n",
            "135 block5e_expand_bn None\n",
            "136 block5e_expand_activation None\n",
            "137 block5e_dwconv2 None\n",
            "138 block5e_bn None\n",
            "139 block5e_activation None\n",
            "140 block5e_se_squeeze None\n",
            "141 block5e_se_reshape None\n",
            "142 block5e_se_reduce None\n",
            "143 block5e_se_expand None\n",
            "144 block5e_se_excite None\n",
            "145 block5e_project_conv None\n",
            "146 block5e_project_bn None\n",
            "147 block5e_drop None\n",
            "148 block5e_add None\n",
            "149 block6a_expand_conv None\n",
            "150 block6a_expand_bn None\n",
            "151 block6a_expand_activation None\n",
            "152 block6a_dwconv2 None\n",
            "153 block6a_bn None\n",
            "154 block6a_activation None\n",
            "155 block6a_se_squeeze None\n",
            "156 block6a_se_reshape None\n",
            "157 block6a_se_reduce None\n",
            "158 block6a_se_expand None\n",
            "159 block6a_se_excite None\n",
            "160 block6a_project_conv None\n",
            "161 block6a_project_bn None\n",
            "162 block6b_expand_conv None\n",
            "163 block6b_expand_bn None\n",
            "164 block6b_expand_activation None\n",
            "165 block6b_dwconv2 None\n",
            "166 block6b_bn None\n",
            "167 block6b_activation None\n",
            "168 block6b_se_squeeze None\n",
            "169 block6b_se_reshape None\n",
            "170 block6b_se_reduce None\n",
            "171 block6b_se_expand None\n",
            "172 block6b_se_excite None\n",
            "173 block6b_project_conv None\n",
            "174 block6b_project_bn None\n",
            "175 block6b_drop None\n",
            "176 block6b_add None\n",
            "177 block6c_expand_conv None\n",
            "178 block6c_expand_bn None\n",
            "179 block6c_expand_activation None\n",
            "180 block6c_dwconv2 None\n",
            "181 block6c_bn None\n",
            "182 block6c_activation None\n",
            "183 block6c_se_squeeze None\n",
            "184 block6c_se_reshape None\n",
            "185 block6c_se_reduce None\n",
            "186 block6c_se_expand None\n",
            "187 block6c_se_excite None\n",
            "188 block6c_project_conv None\n",
            "189 block6c_project_bn None\n",
            "190 block6c_drop None\n",
            "191 block6c_add None\n",
            "192 block6d_expand_conv None\n",
            "193 block6d_expand_bn None\n",
            "194 block6d_expand_activation None\n",
            "195 block6d_dwconv2 None\n",
            "196 block6d_bn None\n",
            "197 block6d_activation None\n",
            "198 block6d_se_squeeze None\n",
            "199 block6d_se_reshape None\n",
            "200 block6d_se_reduce None\n",
            "201 block6d_se_expand None\n",
            "202 block6d_se_excite None\n",
            "203 block6d_project_conv None\n",
            "204 block6d_project_bn None\n",
            "205 block6d_drop None\n",
            "206 block6d_add None\n",
            "207 block6e_expand_conv None\n",
            "208 block6e_expand_bn None\n",
            "209 block6e_expand_activation None\n",
            "210 block6e_dwconv2 None\n",
            "211 block6e_bn None\n",
            "212 block6e_activation None\n",
            "213 block6e_se_squeeze None\n",
            "214 block6e_se_reshape None\n",
            "215 block6e_se_reduce None\n",
            "216 block6e_se_expand None\n",
            "217 block6e_se_excite None\n",
            "218 block6e_project_conv None\n",
            "219 block6e_project_bn None\n",
            "220 block6e_drop None\n",
            "221 block6e_add None\n",
            "222 block6f_expand_conv None\n",
            "223 block6f_expand_bn None\n",
            "224 block6f_expand_activation None\n",
            "225 block6f_dwconv2 None\n",
            "226 block6f_bn None\n",
            "227 block6f_activation None\n",
            "228 block6f_se_squeeze None\n",
            "229 block6f_se_reshape None\n",
            "230 block6f_se_reduce None\n",
            "231 block6f_se_expand None\n",
            "232 block6f_se_excite None\n",
            "233 block6f_project_conv None\n",
            "234 block6f_project_bn None\n",
            "235 block6f_drop None\n",
            "236 block6f_add None\n",
            "237 block6g_expand_conv None\n",
            "238 block6g_expand_bn None\n",
            "239 block6g_expand_activation None\n",
            "240 block6g_dwconv2 None\n",
            "241 block6g_bn None\n",
            "242 block6g_activation None\n",
            "243 block6g_se_squeeze None\n",
            "244 block6g_se_reshape None\n",
            "245 block6g_se_reduce None\n",
            "246 block6g_se_expand None\n",
            "247 block6g_se_excite None\n",
            "248 block6g_project_conv None\n",
            "249 block6g_project_bn None\n",
            "250 block6g_drop None\n",
            "251 block6g_add None\n",
            "252 block6h_expand_conv None\n",
            "253 block6h_expand_bn None\n",
            "254 block6h_expand_activation None\n",
            "255 block6h_dwconv2 None\n",
            "256 block6h_bn None\n",
            "257 block6h_activation None\n",
            "258 block6h_se_squeeze None\n",
            "259 block6h_se_reshape None\n",
            "260 block6h_se_reduce None\n",
            "261 block6h_se_expand None\n",
            "262 block6h_se_excite None\n",
            "263 block6h_project_conv None\n",
            "264 block6h_project_bn None\n",
            "265 block6h_drop None\n",
            "266 block6h_add None\n",
            "267 top_conv None\n",
            "268 top_bn None\n",
            "269 top_activation None\n"
          ]
        }
      ]
    },
    {
      "cell_type": "code",
      "source": [
        "def make_gradcam_heatmap(img_array, model, last_conv_layer_name, pred_index=None):\n",
        "    # The full model contains base_model as the 3rd layer (index 2)\n",
        "    base_model = model.layers[2]\n",
        "    last_conv_layer = base_model.get_layer(last_conv_layer_name)\n",
        "\n",
        "    # Build a model that maps input -> conv outputs + final predictions\n",
        "    grad_model = tf.keras.models.Model(\n",
        "        inputs=model.inputs,\n",
        "        outputs=[last_conv_layer.output, model.output]\n",
        "    )\n",
        "\n",
        "    with tf.GradientTape() as tape:\n",
        "        conv_outputs, predictions = grad_model(img_array)\n",
        "        if pred_index is None:\n",
        "            pred_index = tf.argmax(predictions[0])\n",
        "        class_channel = predictions[:, pred_index]\n",
        "\n",
        "    grads = tape.gradient(class_channel, conv_outputs)\n",
        "    pooled_grads = tf.reduce_mean(grads, axis=(0, 1, 2))\n",
        "    conv_outputs = conv_outputs[0]\n",
        "\n",
        "    heatmap = conv_outputs @ pooled_grads[..., tf.newaxis]\n",
        "    heatmap = tf.squeeze(heatmap)\n",
        "    heatmap = tf.maximum(heatmap, 0) / tf.math.reduce_max(heatmap)\n",
        "    return heatmap.numpy()\n"
      ],
      "metadata": {
        "id": "qBsHe_jucFFH"
      },
      "execution_count": null,
      "outputs": []
    },
    {
      "cell_type": "code",
      "source": [
        "import cv2\n",
        "import numpy as np\n",
        "import matplotlib.pyplot as plt\n",
        "\n",
        "def get_img_array(img_path):\n",
        "    img = tf.keras.utils.load_img(img_path, target_size=image_size)\n",
        "    array = tf.keras.utils.img_to_array(img)\n",
        "    array = np.expand_dims(array, axis=0)\n",
        "    return array / 255.0\n",
        "\n"
      ],
      "metadata": {
        "id": "jdQfYfkKcK6B"
      },
      "execution_count": null,
      "outputs": []
    },
    {
      "cell_type": "code",
      "source": [
        "import random\n",
        "import os\n",
        "\n",
        "test_image_path = random.choice([\n",
        "    os.path.join(dataset_dir, class_name, fname)\n",
        "    for class_name in class_names\n",
        "    for fname in os.listdir(os.path.join(dataset_dir, class_name))\n",
        "])\n",
        "print(\"Test image:\", test_image_path)\n",
        "\n"
      ],
      "metadata": {
        "colab": {
          "base_uri": "https://localhost:8080/"
        },
        "id": "hAvmzhwXcOjC",
        "outputId": "7d93157d-1139-440a-9368-418eaf6e735f"
      },
      "execution_count": null,
      "outputs": [
        {
          "output_type": "stream",
          "name": "stdout",
          "text": [
            "Test image: /content/drive/MyDrive/garbage/TrashType_Image_Dataset/TrashType_Image_Dataset/paper/images (1).jpeg\n"
          ]
        }
      ]
    },
    {
      "cell_type": "code",
      "source": [
        "\n",
        "for i, layer in enumerate(model.layers):\n",
        "    print(i, layer.name, type(layer))\n"
      ],
      "metadata": {
        "colab": {
          "base_uri": "https://localhost:8080/"
        },
        "id": "UCDYpypkcWMR",
        "outputId": "f08ff2cc-c9ba-49fe-d1d4-81abea2b594d"
      },
      "execution_count": null,
      "outputs": [
        {
          "output_type": "stream",
          "name": "stdout",
          "text": [
            "0 rescaling_3 <class 'keras.src.layers.preprocessing.rescaling.Rescaling'>\n",
            "1 efficientnetv2-b0 <class 'keras.src.models.functional.Functional'>\n",
            "2 global_average_pooling2d_1 <class 'keras.src.layers.pooling.global_average_pooling2d.GlobalAveragePooling2D'>\n",
            "3 dropout_1 <class 'keras.src.layers.regularization.dropout.Dropout'>\n",
            "4 dense_1 <class 'keras.src.layers.core.dense.Dense'>\n"
          ]
        }
      ]
    },
    {
      "cell_type": "code",
      "source": [
        "\n",
        "def make_gradcam_heatmap(img_array, model, last_conv_layer_name, pred_index=None):\n",
        "    base_model = model.layers[1]  # index 1 is your EfficientNet base\n",
        "    last_conv_layer = base_model.get_layer(last_conv_layer_name)\n",
        "\n",
        "    grad_model = tf.keras.models.Model(\n",
        "        inputs=model.inputs,\n",
        "        outputs=[last_conv_layer.output, model.output]\n",
        "    )\n",
        "\n",
        "    with tf.GradientTape() as tape:\n",
        "        conv_outputs, predictions = grad_model(img_array)\n",
        "        if pred_index is None:\n",
        "            pred_index = tf.argmax(predictions[0])\n",
        "        class_channel = predictions[:, pred_index]\n",
        "\n",
        "    grads = tape.gradient(class_channel, conv_outputs)\n",
        "    pooled_grads = tf.reduce_mean(grads, axis=(0, 1, 2))\n",
        "    conv_outputs = conv_outputs[0]\n",
        "\n",
        "    heatmap = conv_outputs @ pooled_grads[..., tf.newaxis]\n",
        "    heatmap = tf.squeeze(heatmap)\n",
        "    heatmap = tf.maximum(heatmap, 0) / tf.math.reduce_max(heatmap)\n",
        "    return heatmap.numpy()"
      ],
      "metadata": {
        "id": "ohJLOwONcX1s"
      },
      "execution_count": null,
      "outputs": []
    },
    {
      "cell_type": "code",
      "source": [
        "import numpy as np\n",
        "\n",
        "img_array = np.random.rand(1, 256, 256, 3).astype(np.float32)\n",
        "\n",
        "_ = model(img_array)\n"
      ],
      "metadata": {
        "id": "ziBxxVzdchOi"
      },
      "execution_count": null,
      "outputs": []
    },
    {
      "cell_type": "code",
      "source": [
        "layers.Dense(num_classes, activation='softmax')"
      ],
      "metadata": {
        "colab": {
          "base_uri": "https://localhost:8080/"
        },
        "id": "TjFYc0ASdIIj",
        "outputId": "e36858ec-e20e-4a2f-df25-25261dc73f98"
      },
      "execution_count": null,
      "outputs": [
        {
          "output_type": "execute_result",
          "data": {
            "text/plain": [
              "<Dense name=dense_2, built=False>"
            ]
          },
          "metadata": {},
          "execution_count": 22
        }
      ]
    },
    {
      "cell_type": "code",
      "source": [
        "dummy_input = tf.random.normal([1, 256, 256, 3])  # Batch size 1, same size as your input\n",
        "_ = model(dummy_input)"
      ],
      "metadata": {
        "id": "7TDludhPdK9B"
      },
      "execution_count": null,
      "outputs": []
    },
    {
      "cell_type": "code",
      "source": [
        "print(model.layers[-1])  # or whichever layer is dense_2"
      ],
      "metadata": {
        "colab": {
          "base_uri": "https://localhost:8080/"
        },
        "id": "xoDTTq0CdVGo",
        "outputId": "e26ada5d-814b-4386-dfbb-01968f7e55bc"
      },
      "execution_count": null,
      "outputs": [
        {
          "output_type": "stream",
          "name": "stdout",
          "text": [
            "<Dense name=dense_1, built=True>\n"
          ]
        }
      ]
    },
    {
      "cell_type": "code",
      "source": [
        "_ = model(img_array)"
      ],
      "metadata": {
        "id": "H175z6u8dWuW"
      },
      "execution_count": null,
      "outputs": []
    },
    {
      "cell_type": "code",
      "source": [
        "\n",
        "print(f\"Number of classes: {num_classes}\")\n",
        "print(model.layers[-1].units)\n"
      ],
      "metadata": {
        "colab": {
          "base_uri": "https://localhost:8080/"
        },
        "id": "HliJVjDadawX",
        "outputId": "a7731fad-2500-4d09-c47c-001823493fdd"
      },
      "execution_count": null,
      "outputs": [
        {
          "output_type": "stream",
          "name": "stdout",
          "text": [
            "Number of classes: 6\n",
            "6\n"
          ]
        }
      ]
    },
    {
      "cell_type": "code",
      "source": [
        "\n",
        "import os\n",
        "\n",
        "dataset_dir = '/content/drive/MyDrive/garbage/TrashType_Image_Dataset'\n",
        "print(\"Classes found:\")\n",
        "print(os.listdir(dataset_dir))\n"
      ],
      "metadata": {
        "colab": {
          "base_uri": "https://localhost:8080/"
        },
        "id": "wGVl2oy2da4a",
        "outputId": "30da38f4-10de-4c31-913e-aef1fa1101d2"
      },
      "execution_count": null,
      "outputs": [
        {
          "output_type": "stream",
          "name": "stdout",
          "text": [
            "Classes found:\n",
            "['TrashType_Image_Dataset']\n"
          ]
        }
      ]
    },
    {
      "cell_type": "code",
      "source": [
        "!find /content/drive/MyDrive/TrashType_Image_Dataset -name \".DS_Store\" -delete"
      ],
      "metadata": {
        "colab": {
          "base_uri": "https://localhost:8080/"
        },
        "id": "V7KWXj8od2ub",
        "outputId": "06bc0574-1d65-4118-d160-4c868fa57632"
      },
      "execution_count": null,
      "outputs": [
        {
          "output_type": "stream",
          "name": "stdout",
          "text": [
            "find: ‘/content/drive/MyDrive/TrashType_Image_Dataset’: No such file or directory\n"
          ]
        }
      ]
    },
    {
      "cell_type": "code",
      "source": [
        "train_ds = tf.keras.utils.image_dataset_from_directory(\n",
        "    dataset_dir,\n",
        "    validation_split=0.2,\n",
        "    subset=\"training\",\n",
        "    seed=seed,\n",
        "    image_size=image_size,\n",
        "    batch_size=batch_size\n",
        ")\n",
        "val_ds = tf.keras.utils.image_dataset_from_directory(\n",
        "    dataset_dir,\n",
        "    validation_split=0.2,\n",
        "    subset=\"validation\",\n",
        "    seed=seed,\n",
        "    image_size=image_size,\n",
        "    batch_size=batch_size\n",
        ")\n",
        "\n",
        "class_names = train_ds.class_names\n",
        "print(\"Classes:\", class_names)\n",
        "print(\"Num classes:\", len(class_names))\n"
      ],
      "metadata": {
        "colab": {
          "base_uri": "https://localhost:8080/"
        },
        "id": "OLojB4W1d7Aj",
        "outputId": "2a1987f2-9f18-4cb7-9fd0-91145217ba13"
      },
      "execution_count": null,
      "outputs": [
        {
          "output_type": "stream",
          "name": "stdout",
          "text": [
            "Found 52 files belonging to 1 classes.\n",
            "Using 42 files for training.\n",
            "Found 52 files belonging to 1 classes.\n",
            "Using 10 files for validation.\n",
            "Classes: ['TrashType_Image_Dataset']\n",
            "Num classes: 1\n"
          ]
        }
      ]
    },
    {
      "cell_type": "code",
      "source": [
        "\n",
        "import os\n",
        "\n",
        "dataset_dir = '/content/drive/MyDrive/garbage/TrashType_Image_Dataset'\n",
        "\n",
        "# List all subfolders (classes)\n",
        "classes = [f for f in os.listdir(dataset_dir) if os.path.isdir(os.path.join(dataset_dir, f))]\n",
        "print(\"Classes found:\", classes)\n",
        "\n",
        "# List contents of each class folder (first 5 files to avoid too much output)\n",
        "for c in classes:\n",
        "    class_path = os.path.join(dataset_dir, c)\n",
        "    files = os.listdir(class_path)[:5]\n",
        "    print(f\"Class '{c}' samples:\", files)"
      ],
      "metadata": {
        "colab": {
          "base_uri": "https://localhost:8080/"
        },
        "id": "qYp92luRd7E2",
        "outputId": "bde7d70f-1a3f-4e61-dded-3dfe0d51c893"
      },
      "execution_count": null,
      "outputs": [
        {
          "output_type": "stream",
          "name": "stdout",
          "text": [
            "Classes found: ['TrashType_Image_Dataset']\n",
            "Class 'TrashType_Image_Dataset' samples: ['cardboard', 'glass', 'metal', 'paper', 'plastic']\n"
          ]
        }
      ]
    },
    {
      "cell_type": "code",
      "source": [
        "\n",
        "import tensorflow as tf\n",
        "\n",
        "img_height = 224\n",
        "img_width = 224\n",
        "batch_size = 32\n",
        "\n",
        "train_ds = tf.keras.utils.image_dataset_from_directory(\n",
        "    dataset_dir,\n",
        "    validation_split=0.2,\n",
        "    subset=\"training\",\n",
        "    seed=123,\n",
        "    image_size=(img_height, img_width),\n",
        "    batch_size=batch_size\n",
        ")\n",
        "\n",
        "val_ds = tf.keras.utils.image_dataset_from_directory(\n",
        "    dataset_dir,\n",
        "    validation_split=0.2,\n",
        "    subset=\"validation\",\n",
        "    seed=123,\n",
        "    image_size=(img_height, img_width),\n",
        "    batch_size=batch_size\n",
        ")\n",
        "\n",
        "class_names = train_ds.class_names\n",
        "print(class_names)\n"
      ],
      "metadata": {
        "colab": {
          "base_uri": "https://localhost:8080/"
        },
        "id": "MBJi9K1LeJfO",
        "outputId": "904dde4e-0cde-4b21-b54a-288476987bef"
      },
      "execution_count": null,
      "outputs": [
        {
          "output_type": "stream",
          "name": "stdout",
          "text": [
            "Found 52 files belonging to 1 classes.\n",
            "Using 42 files for training.\n",
            "Found 52 files belonging to 1 classes.\n",
            "Using 10 files for validation.\n",
            "['TrashType_Image_Dataset']\n"
          ]
        }
      ]
    },
    {
      "cell_type": "code",
      "source": [
        "AUTOTUNE = tf.data.AUTOTUNE\n",
        "\n",
        "train_ds = train_ds.prefetch(buffer_size=AUTOTUNE)\n",
        "val_ds = val_ds.prefetch(buffer_size=AUTOTUNE)"
      ],
      "metadata": {
        "id": "bzdjhu86eJhv"
      },
      "execution_count": null,
      "outputs": []
    },
    {
      "cell_type": "code",
      "source": [
        "\n",
        "!ls -R /content/drive/MyDrive/TrashType_Image_Dataset"
      ],
      "metadata": {
        "colab": {
          "base_uri": "https://localhost:8080/"
        },
        "id": "TtTSc2u8d7QP",
        "outputId": "3c3d9263-571d-4b4a-c2f9-84db452d2e9e"
      },
      "execution_count": null,
      "outputs": [
        {
          "output_type": "stream",
          "name": "stdout",
          "text": [
            "ls: cannot access '/content/drive/MyDrive/TrashType_Image_Dataset': No such file or directory\n"
          ]
        }
      ]
    },
    {
      "cell_type": "code",
      "source": [
        "import tensorflow as tf\n",
        "from tensorflow.keras import layers, models\n",
        "from tensorflow.keras.applications import EfficientNetV2B0\n",
        "\n",
        "num_classes = len(class_names)\n",
        "\n",
        "base_model = EfficientNetV2B0(input_shape=(224, 224, 3), include_top=False, weights='imagenet')\n",
        "base_model.trainable = False\n",
        "\n",
        "inputs = tf.keras.Input(shape=(224, 224, 3))\n",
        "x = layers.Rescaling(1./255)(inputs)\n",
        "x = base_model(x, training=False)\n",
        "x = layers.GlobalAveragePooling2D()(x)\n",
        "x = layers.Dropout(0.2)(x)\n",
        "outputs = layers.Dense(num_classes, activation='softmax')(x)\n",
        "\n",
        "model = models.Model(inputs, outputs)\n",
        "\n",
        "model.compile(optimizer='adam',\n",
        "              loss='sparse_categorical_crossentropy',\n",
        "              metrics=['accuracy'])\n",
        "\n",
        "model.summary()"
      ],
      "metadata": {
        "colab": {
          "base_uri": "https://localhost:8080/",
          "height": 347
        },
        "id": "nMUCyU_aeV4E",
        "outputId": "077e9e7d-2b7c-49ab-aeb0-5d72404d565f"
      },
      "execution_count": null,
      "outputs": [
        {
          "output_type": "display_data",
          "data": {
            "text/plain": [
              "\u001b[1mModel: \"functional_3\"\u001b[0m\n"
            ],
            "text/html": [
              "<pre style=\"white-space:pre;overflow-x:auto;line-height:normal;font-family:Menlo,'DejaVu Sans Mono',consolas,'Courier New',monospace\"><span style=\"font-weight: bold\">Model: \"functional_3\"</span>\n",
              "</pre>\n"
            ]
          },
          "metadata": {}
        },
        {
          "output_type": "display_data",
          "data": {
            "text/plain": [
              "┏━━━━━━━━━━━━━━━━━━━━━━━━━━━━━━━━━┳━━━━━━━━━━━━━━━━━━━━━━━━┳━━━━━━━━━━━━━━━┓\n",
              "┃\u001b[1m \u001b[0m\u001b[1mLayer (type)                   \u001b[0m\u001b[1m \u001b[0m┃\u001b[1m \u001b[0m\u001b[1mOutput Shape          \u001b[0m\u001b[1m \u001b[0m┃\u001b[1m \u001b[0m\u001b[1m      Param #\u001b[0m\u001b[1m \u001b[0m┃\n",
              "┡━━━━━━━━━━━━━━━━━━━━━━━━━━━━━━━━━╇━━━━━━━━━━━━━━━━━━━━━━━━╇━━━━━━━━━━━━━━━┩\n",
              "│ input_layer_6 (\u001b[38;5;33mInputLayer\u001b[0m)      │ (\u001b[38;5;45mNone\u001b[0m, \u001b[38;5;34m224\u001b[0m, \u001b[38;5;34m224\u001b[0m, \u001b[38;5;34m3\u001b[0m)    │             \u001b[38;5;34m0\u001b[0m │\n",
              "├─────────────────────────────────┼────────────────────────┼───────────────┤\n",
              "│ rescaling_5 (\u001b[38;5;33mRescaling\u001b[0m)         │ (\u001b[38;5;45mNone\u001b[0m, \u001b[38;5;34m224\u001b[0m, \u001b[38;5;34m224\u001b[0m, \u001b[38;5;34m3\u001b[0m)    │             \u001b[38;5;34m0\u001b[0m │\n",
              "├─────────────────────────────────┼────────────────────────┼───────────────┤\n",
              "│ efficientnetv2-b0 (\u001b[38;5;33mFunctional\u001b[0m)  │ (\u001b[38;5;45mNone\u001b[0m, \u001b[38;5;34m7\u001b[0m, \u001b[38;5;34m7\u001b[0m, \u001b[38;5;34m1280\u001b[0m)     │     \u001b[38;5;34m5,919,312\u001b[0m │\n",
              "├─────────────────────────────────┼────────────────────────┼───────────────┤\n",
              "│ global_average_pooling2d_2      │ (\u001b[38;5;45mNone\u001b[0m, \u001b[38;5;34m1280\u001b[0m)           │             \u001b[38;5;34m0\u001b[0m │\n",
              "│ (\u001b[38;5;33mGlobalAveragePooling2D\u001b[0m)        │                        │               │\n",
              "├─────────────────────────────────┼────────────────────────┼───────────────┤\n",
              "│ dropout_2 (\u001b[38;5;33mDropout\u001b[0m)             │ (\u001b[38;5;45mNone\u001b[0m, \u001b[38;5;34m1280\u001b[0m)           │             \u001b[38;5;34m0\u001b[0m │\n",
              "├─────────────────────────────────┼────────────────────────┼───────────────┤\n",
              "│ dense_3 (\u001b[38;5;33mDense\u001b[0m)                 │ (\u001b[38;5;45mNone\u001b[0m, \u001b[38;5;34m1\u001b[0m)              │         \u001b[38;5;34m1,281\u001b[0m │\n",
              "└─────────────────────────────────┴────────────────────────┴───────────────┘\n"
            ],
            "text/html": [
              "<pre style=\"white-space:pre;overflow-x:auto;line-height:normal;font-family:Menlo,'DejaVu Sans Mono',consolas,'Courier New',monospace\">┏━━━━━━━━━━━━━━━━━━━━━━━━━━━━━━━━━┳━━━━━━━━━━━━━━━━━━━━━━━━┳━━━━━━━━━━━━━━━┓\n",
              "┃<span style=\"font-weight: bold\"> Layer (type)                    </span>┃<span style=\"font-weight: bold\"> Output Shape           </span>┃<span style=\"font-weight: bold\">       Param # </span>┃\n",
              "┡━━━━━━━━━━━━━━━━━━━━━━━━━━━━━━━━━╇━━━━━━━━━━━━━━━━━━━━━━━━╇━━━━━━━━━━━━━━━┩\n",
              "│ input_layer_6 (<span style=\"color: #0087ff; text-decoration-color: #0087ff\">InputLayer</span>)      │ (<span style=\"color: #00d7ff; text-decoration-color: #00d7ff\">None</span>, <span style=\"color: #00af00; text-decoration-color: #00af00\">224</span>, <span style=\"color: #00af00; text-decoration-color: #00af00\">224</span>, <span style=\"color: #00af00; text-decoration-color: #00af00\">3</span>)    │             <span style=\"color: #00af00; text-decoration-color: #00af00\">0</span> │\n",
              "├─────────────────────────────────┼────────────────────────┼───────────────┤\n",
              "│ rescaling_5 (<span style=\"color: #0087ff; text-decoration-color: #0087ff\">Rescaling</span>)         │ (<span style=\"color: #00d7ff; text-decoration-color: #00d7ff\">None</span>, <span style=\"color: #00af00; text-decoration-color: #00af00\">224</span>, <span style=\"color: #00af00; text-decoration-color: #00af00\">224</span>, <span style=\"color: #00af00; text-decoration-color: #00af00\">3</span>)    │             <span style=\"color: #00af00; text-decoration-color: #00af00\">0</span> │\n",
              "├─────────────────────────────────┼────────────────────────┼───────────────┤\n",
              "│ efficientnetv2-b0 (<span style=\"color: #0087ff; text-decoration-color: #0087ff\">Functional</span>)  │ (<span style=\"color: #00d7ff; text-decoration-color: #00d7ff\">None</span>, <span style=\"color: #00af00; text-decoration-color: #00af00\">7</span>, <span style=\"color: #00af00; text-decoration-color: #00af00\">7</span>, <span style=\"color: #00af00; text-decoration-color: #00af00\">1280</span>)     │     <span style=\"color: #00af00; text-decoration-color: #00af00\">5,919,312</span> │\n",
              "├─────────────────────────────────┼────────────────────────┼───────────────┤\n",
              "│ global_average_pooling2d_2      │ (<span style=\"color: #00d7ff; text-decoration-color: #00d7ff\">None</span>, <span style=\"color: #00af00; text-decoration-color: #00af00\">1280</span>)           │             <span style=\"color: #00af00; text-decoration-color: #00af00\">0</span> │\n",
              "│ (<span style=\"color: #0087ff; text-decoration-color: #0087ff\">GlobalAveragePooling2D</span>)        │                        │               │\n",
              "├─────────────────────────────────┼────────────────────────┼───────────────┤\n",
              "│ dropout_2 (<span style=\"color: #0087ff; text-decoration-color: #0087ff\">Dropout</span>)             │ (<span style=\"color: #00d7ff; text-decoration-color: #00d7ff\">None</span>, <span style=\"color: #00af00; text-decoration-color: #00af00\">1280</span>)           │             <span style=\"color: #00af00; text-decoration-color: #00af00\">0</span> │\n",
              "├─────────────────────────────────┼────────────────────────┼───────────────┤\n",
              "│ dense_3 (<span style=\"color: #0087ff; text-decoration-color: #0087ff\">Dense</span>)                 │ (<span style=\"color: #00d7ff; text-decoration-color: #00d7ff\">None</span>, <span style=\"color: #00af00; text-decoration-color: #00af00\">1</span>)              │         <span style=\"color: #00af00; text-decoration-color: #00af00\">1,281</span> │\n",
              "└─────────────────────────────────┴────────────────────────┴───────────────┘\n",
              "</pre>\n"
            ]
          },
          "metadata": {}
        },
        {
          "output_type": "display_data",
          "data": {
            "text/plain": [
              "\u001b[1m Total params: \u001b[0m\u001b[38;5;34m5,920,593\u001b[0m (22.59 MB)\n"
            ],
            "text/html": [
              "<pre style=\"white-space:pre;overflow-x:auto;line-height:normal;font-family:Menlo,'DejaVu Sans Mono',consolas,'Courier New',monospace\"><span style=\"font-weight: bold\"> Total params: </span><span style=\"color: #00af00; text-decoration-color: #00af00\">5,920,593</span> (22.59 MB)\n",
              "</pre>\n"
            ]
          },
          "metadata": {}
        },
        {
          "output_type": "display_data",
          "data": {
            "text/plain": [
              "\u001b[1m Trainable params: \u001b[0m\u001b[38;5;34m1,281\u001b[0m (5.00 KB)\n"
            ],
            "text/html": [
              "<pre style=\"white-space:pre;overflow-x:auto;line-height:normal;font-family:Menlo,'DejaVu Sans Mono',consolas,'Courier New',monospace\"><span style=\"font-weight: bold\"> Trainable params: </span><span style=\"color: #00af00; text-decoration-color: #00af00\">1,281</span> (5.00 KB)\n",
              "</pre>\n"
            ]
          },
          "metadata": {}
        },
        {
          "output_type": "display_data",
          "data": {
            "text/plain": [
              "\u001b[1m Non-trainable params: \u001b[0m\u001b[38;5;34m5,919,312\u001b[0m (22.58 MB)\n"
            ],
            "text/html": [
              "<pre style=\"white-space:pre;overflow-x:auto;line-height:normal;font-family:Menlo,'DejaVu Sans Mono',consolas,'Courier New',monospace\"><span style=\"font-weight: bold\"> Non-trainable params: </span><span style=\"color: #00af00; text-decoration-color: #00af00\">5,919,312</span> (22.58 MB)\n",
              "</pre>\n"
            ]
          },
          "metadata": {}
        }
      ]
    },
    {
      "cell_type": "code",
      "source": [
        "epochs = 10\n",
        "\n",
        "history = model.fit(\n",
        "    train_ds,\n",
        "    validation_data=val_ds,\n",
        "    epochs=epochs\n",
        ")\n"
      ],
      "metadata": {
        "colab": {
          "base_uri": "https://localhost:8080/"
        },
        "id": "Ibed9rmMeV_v",
        "outputId": "ce629f61-3a8c-44de-ae6e-fae51117f02b"
      },
      "execution_count": null,
      "outputs": [
        {
          "output_type": "stream",
          "name": "stdout",
          "text": [
            "Epoch 1/10\n"
          ]
        },
        {
          "output_type": "stream",
          "name": "stderr",
          "text": [
            "/usr/local/lib/python3.11/dist-packages/keras/src/ops/nn.py:907: UserWarning: You are using a softmax over axis -1 of a tensor of shape (None, 1). This axis has size 1. The softmax operation will always return the value 1, which is likely not what you intended. Did you mean to use a sigmoid instead?\n",
            "  warnings.warn(\n"
          ]
        },
        {
          "output_type": "stream",
          "name": "stdout",
          "text": [
            "\u001b[1m2/2\u001b[0m \u001b[32m━━━━━━━━━━━━━━━━━━━━\u001b[0m\u001b[37m\u001b[0m \u001b[1m25s\u001b[0m 6s/step - accuracy: 0.0000e+00 - loss: 0.0000e+00 - val_accuracy: 0.0000e+00 - val_loss: 0.0000e+00\n",
            "Epoch 2/10\n",
            "\u001b[1m2/2\u001b[0m \u001b[32m━━━━━━━━━━━━━━━━━━━━\u001b[0m\u001b[37m\u001b[0m \u001b[1m3s\u001b[0m 1s/step - accuracy: 0.0000e+00 - loss: 0.0000e+00 - val_accuracy: 0.0000e+00 - val_loss: 0.0000e+00\n",
            "Epoch 3/10\n",
            "\u001b[1m2/2\u001b[0m \u001b[32m━━━━━━━━━━━━━━━━━━━━\u001b[0m\u001b[37m\u001b[0m \u001b[1m5s\u001b[0m 1s/step - accuracy: 0.0000e+00 - loss: 0.0000e+00 - val_accuracy: 0.0000e+00 - val_loss: 0.0000e+00\n",
            "Epoch 4/10\n",
            "\u001b[1m2/2\u001b[0m \u001b[32m━━━━━━━━━━━━━━━━━━━━\u001b[0m\u001b[37m\u001b[0m \u001b[1m4s\u001b[0m 2s/step - accuracy: 0.0000e+00 - loss: 0.0000e+00 - val_accuracy: 0.0000e+00 - val_loss: 0.0000e+00\n",
            "Epoch 5/10\n",
            "\u001b[1m2/2\u001b[0m \u001b[32m━━━━━━━━━━━━━━━━━━━━\u001b[0m\u001b[37m\u001b[0m \u001b[1m3s\u001b[0m 903ms/step - accuracy: 0.0000e+00 - loss: 0.0000e+00 - val_accuracy: 0.0000e+00 - val_loss: 0.0000e+00\n",
            "Epoch 6/10\n",
            "\u001b[1m2/2\u001b[0m \u001b[32m━━━━━━━━━━━━━━━━━━━━\u001b[0m\u001b[37m\u001b[0m \u001b[1m5s\u001b[0m 895ms/step - accuracy: 0.0000e+00 - loss: 0.0000e+00 - val_accuracy: 0.0000e+00 - val_loss: 0.0000e+00\n",
            "Epoch 7/10\n",
            "\u001b[1m2/2\u001b[0m \u001b[32m━━━━━━━━━━━━━━━━━━━━\u001b[0m\u001b[37m\u001b[0m \u001b[1m7s\u001b[0m 2s/step - accuracy: 0.0000e+00 - loss: 0.0000e+00 - val_accuracy: 0.0000e+00 - val_loss: 0.0000e+00\n",
            "Epoch 8/10\n",
            "\u001b[1m2/2\u001b[0m \u001b[32m━━━━━━━━━━━━━━━━━━━━\u001b[0m\u001b[37m\u001b[0m \u001b[1m3s\u001b[0m 883ms/step - accuracy: 0.0000e+00 - loss: 0.0000e+00 - val_accuracy: 0.0000e+00 - val_loss: 0.0000e+00\n",
            "Epoch 9/10\n",
            "\u001b[1m2/2\u001b[0m \u001b[32m━━━━━━━━━━━━━━━━━━━━\u001b[0m\u001b[37m\u001b[0m \u001b[1m5s\u001b[0m 1s/step - accuracy: 0.0000e+00 - loss: 0.0000e+00 - val_accuracy: 0.0000e+00 - val_loss: 0.0000e+00\n",
            "Epoch 10/10\n",
            "\u001b[1m2/2\u001b[0m \u001b[32m━━━━━━━━━━━━━━━━━━━━\u001b[0m\u001b[37m\u001b[0m \u001b[1m6s\u001b[0m 902ms/step - accuracy: 0.0000e+00 - loss: 0.0000e+00 - val_accuracy: 0.0000e+00 - val_loss: 0.0000e+00\n"
          ]
        }
      ]
    },
    {
      "cell_type": "code",
      "source": [
        "model.save('/content/garbage_classifier_model.keras')\n",
        "\n",
        "model.export('/content/garbage_classifier_saved_model')\n",
        "\n",
        "import tensorflow as tf\n",
        "\n",
        "converter = tf.lite.TFLiteConverter.from_saved_model('/content/garbage_classifier_saved_model')\n",
        "tflite_model = converter.convert()\n",
        "\n",
        "with open('/content/garbage_classifier_model.tflite', 'wb') as f:\n",
        "    f.write(tflite_model)\n"
      ],
      "metadata": {
        "colab": {
          "base_uri": "https://localhost:8080/"
        },
        "id": "zFMq0V7kfBr9",
        "outputId": "70c9a3ff-e28d-4aaa-e24e-3ce9ecb03f0a"
      },
      "execution_count": null,
      "outputs": [
        {
          "output_type": "stream",
          "name": "stdout",
          "text": [
            "Saved artifact at '/content/garbage_classifier_saved_model'. The following endpoints are available:\n",
            "\n",
            "* Endpoint 'serve'\n",
            "  args_0 (POSITIONAL_ONLY): TensorSpec(shape=(None, 224, 224, 3), dtype=tf.float32, name='keras_tensor_1098')\n",
            "Output Type:\n",
            "  TensorSpec(shape=(None, 1), dtype=tf.float32, name=None)\n",
            "Captures:\n",
            "  134486534897488: TensorSpec(shape=(1, 1, 1, 3), dtype=tf.float32, name=None)\n",
            "  134486534897104: TensorSpec(shape=(1, 1, 1, 3), dtype=tf.float32, name=None)\n",
            "  134486864054800: TensorSpec(shape=(), dtype=tf.resource, name=None)\n",
            "  134489729593232: TensorSpec(shape=(), dtype=tf.resource, name=None)\n",
            "  134486534892112: TensorSpec(shape=(), dtype=tf.resource, name=None)\n",
            "  134486864052304: TensorSpec(shape=(), dtype=tf.resource, name=None)\n",
            "  134489730081680: TensorSpec(shape=(), dtype=tf.resource, name=None)\n",
            "  134486534896720: TensorSpec(shape=(), dtype=tf.resource, name=None)\n",
            "  134486863748688: TensorSpec(shape=(), dtype=tf.resource, name=None)\n",
            "  134486863749072: TensorSpec(shape=(), dtype=tf.resource, name=None)\n",
            "  134486534894992: TensorSpec(shape=(), dtype=tf.resource, name=None)\n",
            "  134489729590352: TensorSpec(shape=(), dtype=tf.resource, name=None)\n",
            "  134486863757136: TensorSpec(shape=(), dtype=tf.resource, name=None)\n",
            "  134486863756560: TensorSpec(shape=(), dtype=tf.resource, name=None)\n",
            "  134486863756368: TensorSpec(shape=(), dtype=tf.resource, name=None)\n",
            "  134486863745616: TensorSpec(shape=(), dtype=tf.resource, name=None)\n",
            "  134486863750032: TensorSpec(shape=(), dtype=tf.resource, name=None)\n",
            "  134486523955152: TensorSpec(shape=(), dtype=tf.resource, name=None)\n",
            "  134486523955728: TensorSpec(shape=(), dtype=tf.resource, name=None)\n",
            "  134486523957264: TensorSpec(shape=(), dtype=tf.resource, name=None)\n",
            "  134486523956496: TensorSpec(shape=(), dtype=tf.resource, name=None)\n",
            "  134486523956304: TensorSpec(shape=(), dtype=tf.resource, name=None)\n",
            "  134486523958224: TensorSpec(shape=(), dtype=tf.resource, name=None)\n",
            "  134486523957840: TensorSpec(shape=(), dtype=tf.resource, name=None)\n",
            "  134486523959184: TensorSpec(shape=(), dtype=tf.resource, name=None)\n",
            "  134486523958416: TensorSpec(shape=(), dtype=tf.resource, name=None)\n",
            "  134486523955536: TensorSpec(shape=(), dtype=tf.resource, name=None)\n",
            "  134486523960144: TensorSpec(shape=(), dtype=tf.resource, name=None)\n",
            "  134486523959760: TensorSpec(shape=(), dtype=tf.resource, name=None)\n",
            "  134486523961104: TensorSpec(shape=(), dtype=tf.resource, name=None)\n",
            "  134486523960336: TensorSpec(shape=(), dtype=tf.resource, name=None)\n",
            "  134486523955920: TensorSpec(shape=(), dtype=tf.resource, name=None)\n",
            "  134486523960528: TensorSpec(shape=(), dtype=tf.resource, name=None)\n",
            "  134486523962448: TensorSpec(shape=(), dtype=tf.resource, name=None)\n",
            "  134486523963408: TensorSpec(shape=(), dtype=tf.resource, name=None)\n",
            "  134486523962640: TensorSpec(shape=(), dtype=tf.resource, name=None)\n",
            "  134486523961296: TensorSpec(shape=(), dtype=tf.resource, name=None)\n",
            "  134486523964368: TensorSpec(shape=(), dtype=tf.resource, name=None)\n",
            "  134486523963984: TensorSpec(shape=(), dtype=tf.resource, name=None)\n",
            "  134486523965328: TensorSpec(shape=(), dtype=tf.resource, name=None)\n",
            "  134486523964560: TensorSpec(shape=(), dtype=tf.resource, name=None)\n",
            "  134486523962256: TensorSpec(shape=(), dtype=tf.resource, name=None)\n",
            "  134486523966288: TensorSpec(shape=(), dtype=tf.resource, name=None)\n",
            "  134486523965904: TensorSpec(shape=(), dtype=tf.resource, name=None)\n",
            "  134486523967248: TensorSpec(shape=(), dtype=tf.resource, name=None)\n",
            "  134486523966480: TensorSpec(shape=(), dtype=tf.resource, name=None)\n",
            "  134486523961680: TensorSpec(shape=(), dtype=tf.resource, name=None)\n",
            "  134486523968208: TensorSpec(shape=(), dtype=tf.resource, name=None)\n",
            "  134486523967824: TensorSpec(shape=(), dtype=tf.resource, name=None)\n",
            "  134486523969360: TensorSpec(shape=(), dtype=tf.resource, name=None)\n",
            "  134486523968400: TensorSpec(shape=(), dtype=tf.resource, name=None)\n",
            "  134486523962832: TensorSpec(shape=(), dtype=tf.resource, name=None)\n",
            "  134486523964752: TensorSpec(shape=(), dtype=tf.resource, name=None)\n",
            "  134486724707536: TensorSpec(shape=(), dtype=tf.resource, name=None)\n",
            "  134486724708304: TensorSpec(shape=(), dtype=tf.resource, name=None)\n",
            "  134486724707728: TensorSpec(shape=(), dtype=tf.resource, name=None)\n",
            "  134486724706576: TensorSpec(shape=(), dtype=tf.resource, name=None)\n",
            "  134486724709264: TensorSpec(shape=(), dtype=tf.resource, name=None)\n",
            "  134486724708880: TensorSpec(shape=(), dtype=tf.resource, name=None)\n",
            "  134486724710224: TensorSpec(shape=(), dtype=tf.resource, name=None)\n",
            "  134486724709456: TensorSpec(shape=(), dtype=tf.resource, name=None)\n",
            "  134486724706384: TensorSpec(shape=(), dtype=tf.resource, name=None)\n",
            "  134486724711184: TensorSpec(shape=(), dtype=tf.resource, name=None)\n",
            "  134486724711376: TensorSpec(shape=(), dtype=tf.resource, name=None)\n",
            "  134486724709648: TensorSpec(shape=(), dtype=tf.resource, name=None)\n",
            "  134486724711760: TensorSpec(shape=(), dtype=tf.resource, name=None)\n",
            "  134486724708112: TensorSpec(shape=(), dtype=tf.resource, name=None)\n",
            "  134486724712912: TensorSpec(shape=(), dtype=tf.resource, name=None)\n",
            "  134486724713680: TensorSpec(shape=(), dtype=tf.resource, name=None)\n",
            "  134486724712528: TensorSpec(shape=(), dtype=tf.resource, name=None)\n",
            "  134486724712336: TensorSpec(shape=(), dtype=tf.resource, name=None)\n",
            "  134486724714640: TensorSpec(shape=(), dtype=tf.resource, name=None)\n",
            "  134486724714256: TensorSpec(shape=(), dtype=tf.resource, name=None)\n",
            "  134486724715600: TensorSpec(shape=(), dtype=tf.resource, name=None)\n",
            "  134486724714832: TensorSpec(shape=(), dtype=tf.resource, name=None)\n",
            "  134486724711568: TensorSpec(shape=(), dtype=tf.resource, name=None)\n",
            "  134486724716560: TensorSpec(shape=(), dtype=tf.resource, name=None)\n",
            "  134486724716176: TensorSpec(shape=(), dtype=tf.resource, name=None)\n",
            "  134486724717520: TensorSpec(shape=(), dtype=tf.resource, name=None)\n",
            "  134486724716752: TensorSpec(shape=(), dtype=tf.resource, name=None)\n",
            "  134486724706960: TensorSpec(shape=(), dtype=tf.resource, name=None)\n",
            "  134486724718480: TensorSpec(shape=(), dtype=tf.resource, name=None)\n",
            "  134486724718672: TensorSpec(shape=(), dtype=tf.resource, name=None)\n",
            "  134486724716944: TensorSpec(shape=(), dtype=tf.resource, name=None)\n",
            "  134486724719056: TensorSpec(shape=(), dtype=tf.resource, name=None)\n",
            "  134486724715024: TensorSpec(shape=(), dtype=tf.resource, name=None)\n",
            "  134486724720208: TensorSpec(shape=(), dtype=tf.resource, name=None)\n",
            "  134486724720976: TensorSpec(shape=(), dtype=tf.resource, name=None)\n",
            "  134486724719824: TensorSpec(shape=(), dtype=tf.resource, name=None)\n",
            "  134486724719632: TensorSpec(shape=(), dtype=tf.resource, name=None)\n",
            "  134486724720400: TensorSpec(shape=(), dtype=tf.resource, name=None)\n",
            "  134486724722320: TensorSpec(shape=(), dtype=tf.resource, name=None)\n",
            "  134486725100560: TensorSpec(shape=(), dtype=tf.resource, name=None)\n",
            "  134486724721552: TensorSpec(shape=(), dtype=tf.resource, name=None)\n",
            "  134486724722128: TensorSpec(shape=(), dtype=tf.resource, name=None)\n",
            "  134486725101136: TensorSpec(shape=(), dtype=tf.resource, name=None)\n",
            "  134486725099792: TensorSpec(shape=(), dtype=tf.resource, name=None)\n",
            "  134486725102096: TensorSpec(shape=(), dtype=tf.resource, name=None)\n",
            "  134486725101328: TensorSpec(shape=(), dtype=tf.resource, name=None)\n",
            "  134486725100368: TensorSpec(shape=(), dtype=tf.resource, name=None)\n",
            "  134486725103056: TensorSpec(shape=(), dtype=tf.resource, name=None)\n",
            "  134486725103248: TensorSpec(shape=(), dtype=tf.resource, name=None)\n",
            "  134486725101520: TensorSpec(shape=(), dtype=tf.resource, name=None)\n",
            "  134486725103632: TensorSpec(shape=(), dtype=tf.resource, name=None)\n",
            "  134486725099984: TensorSpec(shape=(), dtype=tf.resource, name=None)\n",
            "  134486725104784: TensorSpec(shape=(), dtype=tf.resource, name=None)\n",
            "  134486725105552: TensorSpec(shape=(), dtype=tf.resource, name=None)\n",
            "  134486725104400: TensorSpec(shape=(), dtype=tf.resource, name=None)\n",
            "  134486725104208: TensorSpec(shape=(), dtype=tf.resource, name=None)\n",
            "  134486725104976: TensorSpec(shape=(), dtype=tf.resource, name=None)\n",
            "  134486725106896: TensorSpec(shape=(), dtype=tf.resource, name=None)\n",
            "  134486725107856: TensorSpec(shape=(), dtype=tf.resource, name=None)\n",
            "  134486725107088: TensorSpec(shape=(), dtype=tf.resource, name=None)\n",
            "  134486725105744: TensorSpec(shape=(), dtype=tf.resource, name=None)\n",
            "  134486725108816: TensorSpec(shape=(), dtype=tf.resource, name=None)\n",
            "  134486725108432: TensorSpec(shape=(), dtype=tf.resource, name=None)\n",
            "  134486725109776: TensorSpec(shape=(), dtype=tf.resource, name=None)\n",
            "  134486725109008: TensorSpec(shape=(), dtype=tf.resource, name=None)\n",
            "  134486725106704: TensorSpec(shape=(), dtype=tf.resource, name=None)\n",
            "  134486725110736: TensorSpec(shape=(), dtype=tf.resource, name=None)\n",
            "  134486725110928: TensorSpec(shape=(), dtype=tf.resource, name=None)\n",
            "  134486725109200: TensorSpec(shape=(), dtype=tf.resource, name=None)\n",
            "  134486725111312: TensorSpec(shape=(), dtype=tf.resource, name=None)\n",
            "  134486725107280: TensorSpec(shape=(), dtype=tf.resource, name=None)\n",
            "  134486725112464: TensorSpec(shape=(), dtype=tf.resource, name=None)\n",
            "  134486725113232: TensorSpec(shape=(), dtype=tf.resource, name=None)\n",
            "  134486725112080: TensorSpec(shape=(), dtype=tf.resource, name=None)\n",
            "  134486725111888: TensorSpec(shape=(), dtype=tf.resource, name=None)\n",
            "  134486725114192: TensorSpec(shape=(), dtype=tf.resource, name=None)\n",
            "  134486725113808: TensorSpec(shape=(), dtype=tf.resource, name=None)\n",
            "  134486725115152: TensorSpec(shape=(), dtype=tf.resource, name=None)\n",
            "  134486725114384: TensorSpec(shape=(), dtype=tf.resource, name=None)\n",
            "  134486725111120: TensorSpec(shape=(), dtype=tf.resource, name=None)\n",
            "  134486725114960: TensorSpec(shape=(), dtype=tf.resource, name=None)\n",
            "  134486723445392: TensorSpec(shape=(), dtype=tf.resource, name=None)\n",
            "  134486723444816: TensorSpec(shape=(), dtype=tf.resource, name=None)\n",
            "  134486725115728: TensorSpec(shape=(), dtype=tf.resource, name=None)\n",
            "  134486725106128: TensorSpec(shape=(), dtype=tf.resource, name=None)\n",
            "  134486723446928: TensorSpec(shape=(), dtype=tf.resource, name=None)\n",
            "  134486723447120: TensorSpec(shape=(), dtype=tf.resource, name=None)\n",
            "  134486723445776: TensorSpec(shape=(), dtype=tf.resource, name=None)\n",
            "  134486723447504: TensorSpec(shape=(), dtype=tf.resource, name=None)\n",
            "  134486723445584: TensorSpec(shape=(), dtype=tf.resource, name=None)\n",
            "  134486723448656: TensorSpec(shape=(), dtype=tf.resource, name=None)\n",
            "  134486723449424: TensorSpec(shape=(), dtype=tf.resource, name=None)\n",
            "  134486723448272: TensorSpec(shape=(), dtype=tf.resource, name=None)\n",
            "  134486723448080: TensorSpec(shape=(), dtype=tf.resource, name=None)\n",
            "  134486723448848: TensorSpec(shape=(), dtype=tf.resource, name=None)\n",
            "  134486723450768: TensorSpec(shape=(), dtype=tf.resource, name=None)\n",
            "  134486723451728: TensorSpec(shape=(), dtype=tf.resource, name=None)\n",
            "  134486723450960: TensorSpec(shape=(), dtype=tf.resource, name=None)\n",
            "  134486723449616: TensorSpec(shape=(), dtype=tf.resource, name=None)\n",
            "  134486723452688: TensorSpec(shape=(), dtype=tf.resource, name=None)\n",
            "  134486723452304: TensorSpec(shape=(), dtype=tf.resource, name=None)\n",
            "  134486723453648: TensorSpec(shape=(), dtype=tf.resource, name=None)\n",
            "  134486723452880: TensorSpec(shape=(), dtype=tf.resource, name=None)\n",
            "  134486723450576: TensorSpec(shape=(), dtype=tf.resource, name=None)\n",
            "  134486723454608: TensorSpec(shape=(), dtype=tf.resource, name=None)\n",
            "  134486723454800: TensorSpec(shape=(), dtype=tf.resource, name=None)\n",
            "  134486723453072: TensorSpec(shape=(), dtype=tf.resource, name=None)\n",
            "  134486723455184: TensorSpec(shape=(), dtype=tf.resource, name=None)\n",
            "  134486723451152: TensorSpec(shape=(), dtype=tf.resource, name=None)\n",
            "  134486723456336: TensorSpec(shape=(), dtype=tf.resource, name=None)\n",
            "  134486723457104: TensorSpec(shape=(), dtype=tf.resource, name=None)\n",
            "  134486723455952: TensorSpec(shape=(), dtype=tf.resource, name=None)\n",
            "  134486723455760: TensorSpec(shape=(), dtype=tf.resource, name=None)\n",
            "  134486723456528: TensorSpec(shape=(), dtype=tf.resource, name=None)\n",
            "  134486723458448: TensorSpec(shape=(), dtype=tf.resource, name=None)\n",
            "  134486723459408: TensorSpec(shape=(), dtype=tf.resource, name=None)\n",
            "  134486723458640: TensorSpec(shape=(), dtype=tf.resource, name=None)\n",
            "  134486723457296: TensorSpec(shape=(), dtype=tf.resource, name=None)\n",
            "  134486723460368: TensorSpec(shape=(), dtype=tf.resource, name=None)\n",
            "  134486723459984: TensorSpec(shape=(), dtype=tf.resource, name=None)\n",
            "  134486723460752: TensorSpec(shape=(), dtype=tf.resource, name=None)\n",
            "  134486723459600: TensorSpec(shape=(), dtype=tf.resource, name=None)\n",
            "  134486723457680: TensorSpec(shape=(), dtype=tf.resource, name=None)\n",
            "  134486723936528: TensorSpec(shape=(), dtype=tf.resource, name=None)\n",
            "  134486723937680: TensorSpec(shape=(), dtype=tf.resource, name=None)\n",
            "  134486723937104: TensorSpec(shape=(), dtype=tf.resource, name=None)\n",
            "  134486723938064: TensorSpec(shape=(), dtype=tf.resource, name=None)\n",
            "  134486723937296: TensorSpec(shape=(), dtype=tf.resource, name=None)\n",
            "  134486723939216: TensorSpec(shape=(), dtype=tf.resource, name=None)\n",
            "  134486723939984: TensorSpec(shape=(), dtype=tf.resource, name=None)\n",
            "  134486723938832: TensorSpec(shape=(), dtype=tf.resource, name=None)\n",
            "  134486723938640: TensorSpec(shape=(), dtype=tf.resource, name=None)\n",
            "  134486723939408: TensorSpec(shape=(), dtype=tf.resource, name=None)\n",
            "  134486723941328: TensorSpec(shape=(), dtype=tf.resource, name=None)\n",
            "  134486723942288: TensorSpec(shape=(), dtype=tf.resource, name=None)\n",
            "  134486723941520: TensorSpec(shape=(), dtype=tf.resource, name=None)\n",
            "  134486723940176: TensorSpec(shape=(), dtype=tf.resource, name=None)\n",
            "  134486723943248: TensorSpec(shape=(), dtype=tf.resource, name=None)\n",
            "  134486723942864: TensorSpec(shape=(), dtype=tf.resource, name=None)\n",
            "  134486723944208: TensorSpec(shape=(), dtype=tf.resource, name=None)\n",
            "  134486723943440: TensorSpec(shape=(), dtype=tf.resource, name=None)\n",
            "  134486723941136: TensorSpec(shape=(), dtype=tf.resource, name=None)\n",
            "  134486723944016: TensorSpec(shape=(), dtype=tf.resource, name=None)\n",
            "  134486723945360: TensorSpec(shape=(), dtype=tf.resource, name=None)\n",
            "  134486723943632: TensorSpec(shape=(), dtype=tf.resource, name=None)\n",
            "  134486723945744: TensorSpec(shape=(), dtype=tf.resource, name=None)\n",
            "  134486723941712: TensorSpec(shape=(), dtype=tf.resource, name=None)\n",
            "  134486723946896: TensorSpec(shape=(), dtype=tf.resource, name=None)\n",
            "  134486723947664: TensorSpec(shape=(), dtype=tf.resource, name=None)\n",
            "  134486723946512: TensorSpec(shape=(), dtype=tf.resource, name=None)\n",
            "  134486723946320: TensorSpec(shape=(), dtype=tf.resource, name=None)\n",
            "  134486723947088: TensorSpec(shape=(), dtype=tf.resource, name=None)\n",
            "  134486723949008: TensorSpec(shape=(), dtype=tf.resource, name=None)\n",
            "  134486723949968: TensorSpec(shape=(), dtype=tf.resource, name=None)\n",
            "  134486723949200: TensorSpec(shape=(), dtype=tf.resource, name=None)\n",
            "  134486723947856: TensorSpec(shape=(), dtype=tf.resource, name=None)\n",
            "  134486723950928: TensorSpec(shape=(), dtype=tf.resource, name=None)\n",
            "  134486723950544: TensorSpec(shape=(), dtype=tf.resource, name=None)\n",
            "  134486723951888: TensorSpec(shape=(), dtype=tf.resource, name=None)\n",
            "  134486723951120: TensorSpec(shape=(), dtype=tf.resource, name=None)\n",
            "  134486723948816: TensorSpec(shape=(), dtype=tf.resource, name=None)\n",
            "  134486723951696: TensorSpec(shape=(), dtype=tf.resource, name=None)\n",
            "  134486723952464: TensorSpec(shape=(), dtype=tf.resource, name=None)\n",
            "  134486723948240: TensorSpec(shape=(), dtype=tf.resource, name=None)\n",
            "  134486724363472: TensorSpec(shape=(), dtype=tf.resource, name=None)\n",
            "  134486724364048: TensorSpec(shape=(), dtype=tf.resource, name=None)\n",
            "  134486724362704: TensorSpec(shape=(), dtype=tf.resource, name=None)\n",
            "  134486724365008: TensorSpec(shape=(), dtype=tf.resource, name=None)\n",
            "  134486724364240: TensorSpec(shape=(), dtype=tf.resource, name=None)\n",
            "  134486724363280: TensorSpec(shape=(), dtype=tf.resource, name=None)\n",
            "  134486724365968: TensorSpec(shape=(), dtype=tf.resource, name=None)\n",
            "  134486724365584: TensorSpec(shape=(), dtype=tf.resource, name=None)\n",
            "  134486724366928: TensorSpec(shape=(), dtype=tf.resource, name=None)\n",
            "  134486724366160: TensorSpec(shape=(), dtype=tf.resource, name=None)\n",
            "  134486724362512: TensorSpec(shape=(), dtype=tf.resource, name=None)\n",
            "  134486724367888: TensorSpec(shape=(), dtype=tf.resource, name=None)\n",
            "  134486724367504: TensorSpec(shape=(), dtype=tf.resource, name=None)\n",
            "  134486724368848: TensorSpec(shape=(), dtype=tf.resource, name=None)\n",
            "  134486724368080: TensorSpec(shape=(), dtype=tf.resource, name=None)\n",
            "  134486724362896: TensorSpec(shape=(), dtype=tf.resource, name=None)\n",
            "  134486724369808: TensorSpec(shape=(), dtype=tf.resource, name=None)\n",
            "  134486724370000: TensorSpec(shape=(), dtype=tf.resource, name=None)\n",
            "  134486724368272: TensorSpec(shape=(), dtype=tf.resource, name=None)\n",
            "  134486724370384: TensorSpec(shape=(), dtype=tf.resource, name=None)\n",
            "  134486724366352: TensorSpec(shape=(), dtype=tf.resource, name=None)\n",
            "  134486724371536: TensorSpec(shape=(), dtype=tf.resource, name=None)\n",
            "  134486724372304: TensorSpec(shape=(), dtype=tf.resource, name=None)\n",
            "  134486724371152: TensorSpec(shape=(), dtype=tf.resource, name=None)\n",
            "  134486724370960: TensorSpec(shape=(), dtype=tf.resource, name=None)\n",
            "  134486724371728: TensorSpec(shape=(), dtype=tf.resource, name=None)\n",
            "  134486724373648: TensorSpec(shape=(), dtype=tf.resource, name=None)\n",
            "  134486724374608: TensorSpec(shape=(), dtype=tf.resource, name=None)\n",
            "  134486724373840: TensorSpec(shape=(), dtype=tf.resource, name=None)\n",
            "  134486724372496: TensorSpec(shape=(), dtype=tf.resource, name=None)\n",
            "  134486724375568: TensorSpec(shape=(), dtype=tf.resource, name=None)\n",
            "  134486724375184: TensorSpec(shape=(), dtype=tf.resource, name=None)\n",
            "  134486724376528: TensorSpec(shape=(), dtype=tf.resource, name=None)\n",
            "  134486724375760: TensorSpec(shape=(), dtype=tf.resource, name=None)\n",
            "  134486724373456: TensorSpec(shape=(), dtype=tf.resource, name=None)\n",
            "  134486724377488: TensorSpec(shape=(), dtype=tf.resource, name=None)\n",
            "  134486724377680: TensorSpec(shape=(), dtype=tf.resource, name=None)\n",
            "  134486724375952: TensorSpec(shape=(), dtype=tf.resource, name=None)\n",
            "  134486724374032: TensorSpec(shape=(), dtype=tf.resource, name=None)\n",
            "  134486724378064: TensorSpec(shape=(), dtype=tf.resource, name=None)\n",
            "  134486722707920: TensorSpec(shape=(), dtype=tf.resource, name=None)\n",
            "  134486722708880: TensorSpec(shape=(), dtype=tf.resource, name=None)\n",
            "  134486724377872: TensorSpec(shape=(), dtype=tf.resource, name=None)\n",
            "  134486722707728: TensorSpec(shape=(), dtype=tf.resource, name=None)\n",
            "  134486722707536: TensorSpec(shape=(), dtype=tf.resource, name=None)\n",
            "  134486722710224: TensorSpec(shape=(), dtype=tf.resource, name=None)\n",
            "  134486722711184: TensorSpec(shape=(), dtype=tf.resource, name=None)\n",
            "  134486722710416: TensorSpec(shape=(), dtype=tf.resource, name=None)\n",
            "  134486722709072: TensorSpec(shape=(), dtype=tf.resource, name=None)\n",
            "  134486722712144: TensorSpec(shape=(), dtype=tf.resource, name=None)\n",
            "  134486722711760: TensorSpec(shape=(), dtype=tf.resource, name=None)\n",
            "  134486722713104: TensorSpec(shape=(), dtype=tf.resource, name=None)\n",
            "  134486722712336: TensorSpec(shape=(), dtype=tf.resource, name=None)\n",
            "  134486722710032: TensorSpec(shape=(), dtype=tf.resource, name=None)\n",
            "  134486722714064: TensorSpec(shape=(), dtype=tf.resource, name=None)\n",
            "  134486722714256: TensorSpec(shape=(), dtype=tf.resource, name=None)\n",
            "  134486722712528: TensorSpec(shape=(), dtype=tf.resource, name=None)\n",
            "  134486722714640: TensorSpec(shape=(), dtype=tf.resource, name=None)\n",
            "  134486722710608: TensorSpec(shape=(), dtype=tf.resource, name=None)\n",
            "  134486722715792: TensorSpec(shape=(), dtype=tf.resource, name=None)\n",
            "  134486722716560: TensorSpec(shape=(), dtype=tf.resource, name=None)\n",
            "  134486722715408: TensorSpec(shape=(), dtype=tf.resource, name=None)\n",
            "  134486722715216: TensorSpec(shape=(), dtype=tf.resource, name=None)\n",
            "  134486722715984: TensorSpec(shape=(), dtype=tf.resource, name=None)\n",
            "  134486722717904: TensorSpec(shape=(), dtype=tf.resource, name=None)\n",
            "  134486722718864: TensorSpec(shape=(), dtype=tf.resource, name=None)\n",
            "  134486722718096: TensorSpec(shape=(), dtype=tf.resource, name=None)\n",
            "  134486722716752: TensorSpec(shape=(), dtype=tf.resource, name=None)\n",
            "  134486722719824: TensorSpec(shape=(), dtype=tf.resource, name=None)\n",
            "  134486722719440: TensorSpec(shape=(), dtype=tf.resource, name=None)\n",
            "  134486722720784: TensorSpec(shape=(), dtype=tf.resource, name=None)\n",
            "  134486722720016: TensorSpec(shape=(), dtype=tf.resource, name=None)\n",
            "  134486722717712: TensorSpec(shape=(), dtype=tf.resource, name=None)\n",
            "  134486722721744: TensorSpec(shape=(), dtype=tf.resource, name=None)\n",
            "  134486722721936: TensorSpec(shape=(), dtype=tf.resource, name=None)\n",
            "  134486722720208: TensorSpec(shape=(), dtype=tf.resource, name=None)\n",
            "  134486722722320: TensorSpec(shape=(), dtype=tf.resource, name=None)\n",
            "  134486722718288: TensorSpec(shape=(), dtype=tf.resource, name=None)\n",
            "  134486722723088: TensorSpec(shape=(), dtype=tf.resource, name=None)\n",
            "  134486722723472: TensorSpec(shape=(), dtype=tf.resource, name=None)\n",
            "  134486722722704: TensorSpec(shape=(), dtype=tf.resource, name=None)\n",
            "  134486722722128: TensorSpec(shape=(), dtype=tf.resource, name=None)\n",
            "  134486723216400: TensorSpec(shape=(), dtype=tf.resource, name=None)\n",
            "  134486723217168: TensorSpec(shape=(), dtype=tf.resource, name=None)\n",
            "  134486723218128: TensorSpec(shape=(), dtype=tf.resource, name=None)\n",
            "  134486723217360: TensorSpec(shape=(), dtype=tf.resource, name=None)\n",
            "  134486723215632: TensorSpec(shape=(), dtype=tf.resource, name=None)\n",
            "  134486723219088: TensorSpec(shape=(), dtype=tf.resource, name=None)\n",
            "  134486723218704: TensorSpec(shape=(), dtype=tf.resource, name=None)\n",
            "  134486723220048: TensorSpec(shape=(), dtype=tf.resource, name=None)\n",
            "  134486723219280: TensorSpec(shape=(), dtype=tf.resource, name=None)\n",
            "  134486723216976: TensorSpec(shape=(), dtype=tf.resource, name=None)\n",
            "  134486723221008: TensorSpec(shape=(), dtype=tf.resource, name=None)\n",
            "  134486723221200: TensorSpec(shape=(), dtype=tf.resource, name=None)\n",
            "  134486723219472: TensorSpec(shape=(), dtype=tf.resource, name=None)\n",
            "  134486723221584: TensorSpec(shape=(), dtype=tf.resource, name=None)\n",
            "  134486723217552: TensorSpec(shape=(), dtype=tf.resource, name=None)\n",
            "  134486723222736: TensorSpec(shape=(), dtype=tf.resource, name=None)\n",
            "  134486723223504: TensorSpec(shape=(), dtype=tf.resource, name=None)\n",
            "  134486723222352: TensorSpec(shape=(), dtype=tf.resource, name=None)\n",
            "  134486723222160: TensorSpec(shape=(), dtype=tf.resource, name=None)\n",
            "  134486723222928: TensorSpec(shape=(), dtype=tf.resource, name=None)\n",
            "  134486723224848: TensorSpec(shape=(), dtype=tf.resource, name=None)\n",
            "  134486723225808: TensorSpec(shape=(), dtype=tf.resource, name=None)\n",
            "  134486723225040: TensorSpec(shape=(), dtype=tf.resource, name=None)\n",
            "  134486723223696: TensorSpec(shape=(), dtype=tf.resource, name=None)\n",
            "  134486723226768: TensorSpec(shape=(), dtype=tf.resource, name=None)\n",
            "  134486723226384: TensorSpec(shape=(), dtype=tf.resource, name=None)\n",
            "  134486723227728: TensorSpec(shape=(), dtype=tf.resource, name=None)\n",
            "  134486723226960: TensorSpec(shape=(), dtype=tf.resource, name=None)\n",
            "  134486723224656: TensorSpec(shape=(), dtype=tf.resource, name=None)\n",
            "  134486723228688: TensorSpec(shape=(), dtype=tf.resource, name=None)\n",
            "  134486723228880: TensorSpec(shape=(), dtype=tf.resource, name=None)\n",
            "  134486723227152: TensorSpec(shape=(), dtype=tf.resource, name=None)\n",
            "  134486723229264: TensorSpec(shape=(), dtype=tf.resource, name=None)\n",
            "  134486723225232: TensorSpec(shape=(), dtype=tf.resource, name=None)\n",
            "  134486723230416: TensorSpec(shape=(), dtype=tf.resource, name=None)\n",
            "  134486723231376: TensorSpec(shape=(), dtype=tf.resource, name=None)\n",
            "  134486723230032: TensorSpec(shape=(), dtype=tf.resource, name=None)\n",
            "  134486723229840: TensorSpec(shape=(), dtype=tf.resource, name=None)\n",
            "  134486723229072: TensorSpec(shape=(), dtype=tf.resource, name=None)\n",
            "  134486721627344: TensorSpec(shape=(), dtype=tf.resource, name=None)\n",
            "  134486721626384: TensorSpec(shape=(), dtype=tf.resource, name=None)\n",
            "  134486721627152: TensorSpec(shape=(), dtype=tf.resource, name=None)\n",
            "  134486721626192: TensorSpec(shape=(), dtype=tf.resource, name=None)\n",
            "  134486721628880: TensorSpec(shape=(), dtype=tf.resource, name=None)\n",
            "  134486721628496: TensorSpec(shape=(), dtype=tf.resource, name=None)\n",
            "  134486721629840: TensorSpec(shape=(), dtype=tf.resource, name=None)\n",
            "  134486721629072: TensorSpec(shape=(), dtype=tf.resource, name=None)\n",
            "  134486721626576: TensorSpec(shape=(), dtype=tf.resource, name=None)\n",
            "  134486721630800: TensorSpec(shape=(), dtype=tf.resource, name=None)\n",
            "  134486721630992: TensorSpec(shape=(), dtype=tf.resource, name=None)\n",
            "  134486721629264: TensorSpec(shape=(), dtype=tf.resource, name=None)\n",
            "  134486721631376: TensorSpec(shape=(), dtype=tf.resource, name=None)\n",
            "  134486721626960: TensorSpec(shape=(), dtype=tf.resource, name=None)\n",
            "  134486721632528: TensorSpec(shape=(), dtype=tf.resource, name=None)\n",
            "  134486721633296: TensorSpec(shape=(), dtype=tf.resource, name=None)\n",
            "  134486721632144: TensorSpec(shape=(), dtype=tf.resource, name=None)\n",
            "  134486721631952: TensorSpec(shape=(), dtype=tf.resource, name=None)\n",
            "  134486721632720: TensorSpec(shape=(), dtype=tf.resource, name=None)\n",
            "  134486721634640: TensorSpec(shape=(), dtype=tf.resource, name=None)\n",
            "  134486721635600: TensorSpec(shape=(), dtype=tf.resource, name=None)\n",
            "  134486721634832: TensorSpec(shape=(), dtype=tf.resource, name=None)\n",
            "  134486721633488: TensorSpec(shape=(), dtype=tf.resource, name=None)\n",
            "  134486721635024: TensorSpec(shape=(), dtype=tf.resource, name=None)\n",
            "  134486721637520: TensorSpec(shape=(), dtype=tf.resource, name=None)\n"
          ]
        }
      ]
    },
    {
      "cell_type": "code",
      "source": [
        "\n",
        "interpreter = tf.lite.Interpreter(model_path='/content/garbage_classifier_model.tflite')\n",
        "interpreter.allocate_tensors()\n",
        "\n",
        "input_details = interpreter.get_input_details()\n",
        "output_details = interpreter.get_output_details()\n",
        "\n",
        "print(\"Input details:\", input_details)\n",
        "print(\"Output details:\", output_details)"
      ],
      "metadata": {
        "colab": {
          "base_uri": "https://localhost:8080/"
        },
        "id": "futw1Mi9fBzi",
        "outputId": "7262d0df-1679-40b8-fda4-fd5050e77077"
      },
      "execution_count": null,
      "outputs": [
        {
          "output_type": "stream",
          "name": "stdout",
          "text": [
            "Input details: [{'name': 'serving_default_keras_tensor_1098:0', 'index': 0, 'shape': array([  1, 224, 224,   3], dtype=int32), 'shape_signature': array([ -1, 224, 224,   3], dtype=int32), 'dtype': <class 'numpy.float32'>, 'quantization': (0.0, 0), 'quantization_parameters': {'scales': array([], dtype=float32), 'zero_points': array([], dtype=int32), 'quantized_dimension': 0}, 'sparsity_parameters': {}}]\n",
            "Output details: [{'name': 'StatefulPartitionedCall_1:0', 'index': 530, 'shape': array([1, 1], dtype=int32), 'shape_signature': array([-1,  1], dtype=int32), 'dtype': <class 'numpy.float32'>, 'quantization': (0.0, 0), 'quantization_parameters': {'scales': array([], dtype=float32), 'zero_points': array([], dtype=int32), 'quantized_dimension': 0}, 'sparsity_parameters': {}}]\n"
          ]
        }
      ]
    },
    {
      "cell_type": "code",
      "source": [
        "test_data = tf.keras.preprocessing.image_dataset_from_directory(\n",
        "    dataset_dir,\n",
        "    validation_split=0.2,\n",
        "    subset=\"validation\",\n",
        "    seed=123,\n",
        "    image_size=(224, 224),\n",
        "    batch_size=32\n",
        ")\n",
        "\n",
        "loss, acc = model.evaluate(test_data)\n",
        "print(f\"Test Accuracy: {acc * 100:.2f}%\")\n"
      ],
      "metadata": {
        "colab": {
          "base_uri": "https://localhost:8080/"
        },
        "id": "tVIgRjeQfZlF",
        "outputId": "38b270b0-a4b9-42ed-e9bf-b44fb9d1b0f3"
      },
      "execution_count": null,
      "outputs": [
        {
          "output_type": "stream",
          "name": "stdout",
          "text": [
            "Found 52 files belonging to 1 classes.\n",
            "Using 10 files for validation.\n",
            "\u001b[1m1/1\u001b[0m \u001b[32m━━━━━━━━━━━━━━━━━━━━\u001b[0m\u001b[37m\u001b[0m \u001b[1m1s\u001b[0m 575ms/step - accuracy: 0.0000e+00 - loss: 0.0000e+00\n",
            "Test Accuracy: 0.00%\n"
          ]
        }
      ]
    },
    {
      "cell_type": "code",
      "source": [
        "\n",
        "test_dir = '/content/drive/MyDrive/garbage/TrashType_Image_Dataset'\n",
        "\n",
        "test_ds = tf.keras.utils.image_dataset_from_directory(\n",
        "    test_dir,\n",
        "    image_size=(224, 224),  # Ensure this matches your model's input\n",
        "    batch_size=32,\n",
        "    shuffle=False\n",
        ")\n"
      ],
      "metadata": {
        "colab": {
          "base_uri": "https://localhost:8080/"
        },
        "id": "3QGdQdy2fZop",
        "outputId": "0eb0cc50-0fa6-4ec3-bdac-d69d142739bd"
      },
      "execution_count": null,
      "outputs": [
        {
          "output_type": "stream",
          "name": "stdout",
          "text": [
            "Found 52 files belonging to 1 classes.\n"
          ]
        }
      ]
    },
    {
      "cell_type": "code",
      "source": [
        "!pip install split-folders"
      ],
      "metadata": {
        "colab": {
          "base_uri": "https://localhost:8080/"
        },
        "id": "k3YadFAefvdL",
        "outputId": "d8124f6e-55e5-4243-adb7-bece73b1b668"
      },
      "execution_count": null,
      "outputs": [
        {
          "output_type": "stream",
          "name": "stdout",
          "text": [
            "Collecting split-folders\n",
            "  Downloading split_folders-0.5.1-py3-none-any.whl.metadata (6.2 kB)\n",
            "Downloading split_folders-0.5.1-py3-none-any.whl (8.4 kB)\n",
            "Installing collected packages: split-folders\n",
            "Successfully installed split-folders-0.5.1\n"
          ]
        }
      ]
    },
    {
      "cell_type": "code",
      "source": [
        "\n",
        "import splitfolders\n",
        "\n",
        "# Replace with your actual path\n",
        "input_folder = '/content/drive/MyDrive/garbage/TrashType_Image_Dataset/TrashType_Image_Dataset'\n",
        "output_folder = '/content/drive/MyDrive/TrashType_Split'\n",
        "\n",
        "# Split: 70% train, 15% val, 15% test\n",
        "splitfolders.ratio(input_folder, output=output_folder, seed=42, ratio=(.7, .15, .15))\n"
      ],
      "metadata": {
        "colab": {
          "base_uri": "https://localhost:8080/"
        },
        "id": "eBJmY8JwfvkG",
        "outputId": "b7e50f14-faa6-4289-dbb2-dcccc89eb7f6"
      },
      "execution_count": null,
      "outputs": [
        {
          "output_type": "stream",
          "name": "stderr",
          "text": [
            "Copying files: 60 files [00:04, 12.02 files/s]\n"
          ]
        }
      ]
    },
    {
      "cell_type": "code",
      "source": [
        "# === 1. IMPORTS ===\n",
        "import tensorflow as tf\n",
        "import numpy as np\n",
        "import matplotlib.pyplot as plt\n",
        "import seaborn as sns\n",
        "import gradio as gr\n",
        "from sklearn.metrics import confusion_matrix, classification_report\n",
        "from sklearn.utils.class_weight import compute_class_weight\n",
        "from tensorflow.keras.applications.efficientnet_v2 import EfficientNetV2B2, preprocess_input\n",
        "\n",
        "# === 2. MOUNT GOOGLE DRIVE ===\n",
        "from google.colab import drive\n",
        "drive.mount('/content/drive')\n",
        "\n",
        "# === 3. SET DATASET PATH ===\n",
        "dataset_path = '/content/drive/MyDrive/TrashType_Split'\n",
        "\n",
        "# === 4. LOAD DATASETS ===\n",
        "image_size = (124, 124)\n",
        "batch_size = 32\n",
        "\n",
        "train_ds = tf.keras.utils.image_dataset_from_directory(\n",
        "    dataset_path + '/train',\n",
        "    image_size=image_size,\n",
        "    batch_size=batch_size\n",
        ")\n",
        "\n",
        "val_ds = tf.keras.utils.image_dataset_from_directory(\n",
        "    dataset_path + '/val',\n",
        "    image_size=image_size,\n",
        "    batch_size=batch_size\n",
        ")\n",
        "\n",
        "test_ds = tf.keras.utils.image_dataset_from_directory(\n",
        "    dataset_path + '/test',\n",
        "    image_size=image_size,\n",
        "    batch_size=batch_size,\n",
        "    shuffle=False\n",
        ")\n",
        "\n",
        "# === 5. GET CLASS NAMES ===\n",
        "class_names = train_ds.class_names\n",
        "print(\"Class Names:\", class_names)\n",
        "\n",
        "# === 6. COMPUTE CLASS WEIGHTS ===\n",
        "all_labels = np.concatenate([labels.numpy() for _, labels in train_ds], axis=0)\n",
        "classes = np.unique(all_labels)\n",
        "\n",
        "class_weights_array = compute_class_weight(\n",
        "    class_weight='balanced',\n",
        "    classes=classes,\n",
        "    y=all_labels\n",
        ")\n",
        "class_weights = {i: w for i, w in zip(classes, class_weights_array)}\n",
        "print(\"Class Weights:\", class_weights)\n",
        "\n",
        "# === 7. PREFETCH FOR PERFORMANCE ===\n",
        "AUTOTUNE = tf.data.AUTOTUNE\n",
        "train_ds = train_ds.prefetch(buffer_size=AUTOTUNE)\n",
        "val_ds = val_ds.prefetch(buffer_size=AUTOTUNE)\n",
        "test_ds = test_ds.prefetch(buffer_size=AUTOTUNE)\n",
        "\n",
        "# === 8. BUILD MODEL ===\n",
        "base_model = EfficientNetV2B2(include_top=False, input_shape=(124, 124, 3), weights='imagenet')\n",
        "base_model.trainable = False\n",
        "\n",
        "model = tf.keras.Sequential([\n",
        "    tf.keras.layers.Rescaling(1./255),\n",
        "    base_model,\n",
        "    tf.keras.layers.GlobalAveragePooling2D(),\n",
        "    tf.keras.layers.Dense(128, activation='relu'),\n",
        "    tf.keras.layers.Dense(len(class_names), activation='softmax')\n",
        "])\n",
        "\n",
        "model.compile(\n",
        "    optimizer='adam',\n",
        "    loss='sparse_categorical_crossentropy',\n",
        "    metrics=['accuracy']\n",
        ")\n",
        "\n",
        "model.summary()\n",
        "\n",
        "# === 9. EARLY STOPPING ===\n",
        "early = tf.keras.callbacks.EarlyStopping(\n",
        "    monitor='val_loss',\n",
        "    patience=3,\n",
        "    restore_best_weights=True\n",
        ")\n",
        "\n",
        "# === 10. TRAIN THE MODEL ===\n",
        "history = model.fit(\n",
        "    train_ds,\n",
        "    validation_data=val_ds,\n",
        "    epochs=10,\n",
        "    class_weight=class_weights,\n",
        "    callbacks=[early]\n",
        ")\n",
        "\n",
        "# === 11. PLOT TRAINING RESULTS ===\n",
        "acc = history.history['accuracy']\n",
        "val_acc = history.history['val_accuracy']\n",
        "loss = history.history['loss']\n",
        "val_loss = history.history['val_loss']\n",
        "epochs_range = range(len(acc))\n",
        "\n",
        "plt.figure(figsize=(10,8))\n",
        "\n",
        "plt.subplot(1,2,1)\n",
        "plt.plot(epochs_range, acc, label='Training Accuracy')\n",
        "plt.plot(epochs_range, val_acc, label='Validation Accuracy')\n",
        "plt.legend(loc='lower right')\n",
        "plt.title('Training vs Validation Accuracy')\n",
        "\n",
        "plt.subplot(1,2,2)\n",
        "plt.plot(epochs_range, loss, label='Training Loss')\n",
        "plt.plot(epochs_range, val_loss, label='Validation Loss')\n",
        "plt.legend(loc='upper right')\n",
        "plt.title('Training vs Validation Loss')\n",
        "\n",
        "plt.show()\n",
        "\n",
        "# === 12. EVALUATE ON TEST SET ===\n",
        "loss, accuracy = model.evaluate(test_ds)\n",
        "print(f'Test accuracy: {accuracy:.4f}, Test loss: {loss:.4f}')\n",
        "\n",
        "# === 13. CONFUSION MATRIX & CLASSIFICATION REPORT ===\n",
        "y_true = np.concatenate([labels.numpy() for _, labels in test_ds], axis=0)\n",
        "y_pred_probs = model.predict(test_ds)\n",
        "y_pred = np.argmax(y_pred_probs, axis=1)\n",
        "\n",
        "cm = confusion_matrix(y_true, y_pred)\n",
        "print(\"Confusion Matrix:\\n\", cm)\n",
        "\n",
        "# ✅ Fix: Pass correct class indices explicitly\n",
        "print(classification_report(\n",
        "    y_true,\n",
        "    y_pred,\n",
        "    target_names=class_names,\n",
        "    labels=np.arange(len(class_names))\n",
        "))\n",
        "\n",
        "# Plot Confusion Matrix\n",
        "plt.figure(figsize=(10,8))\n",
        "sns.heatmap(cm, annot=True, fmt='d', xticklabels=class_names, yticklabels=class_names, cmap='Blues')\n",
        "plt.xlabel('Predicted')\n",
        "plt.ylabel('True')\n",
        "plt.title('Confusion Matrix')\n",
        "plt.show()\n",
        "\n",
        "# === 14. SAVE THE MODEL ===\n",
        "model.save('/content/EfficientNetV2B2_Trash.keras')\n",
        "\n",
        "# === 15. GRADIO APP FOR PREDICTION ===\n",
        "model = tf.keras.models.load_model('/content/EfficientNetV2B2_Trash.keras')\n",
        "\n",
        "def classify_image(img):\n",
        "    img = img.resize(image_size)\n",
        "    img_array = np.array(img, dtype=np.float32)\n",
        "    img_array = preprocess_input(img_array)\n",
        "    img_array = np.expand_dims(img_array, axis=0)\n",
        "\n",
        "    prediction = model.predict(img_array)\n",
        "    predicted_class_index = np.argmax(prediction)\n",
        "    predicted_class_name = class_names[predicted_class_index]\n",
        "    confidence = prediction[0][predicted_class_index]\n",
        "\n",
        "    return f\"Predicted: {predicted_class_name} (Confidence: {confidence:.2f})\"\n",
        "\n",
        "iface = gr.Interface(\n",
        "    fn=classify_image,\n",
        "    inputs=gr.Image(type=\"pil\"),\n",
        "    outputs=\"text\",\n",
        "    title=\"Garbage Classifier\",\n",
        "    description=\"Upload an image of garbage (e.g., plastic, glass, cardboard) to identify its type.\"\n",
        ")\n",
        "\n",
        "iface.launch(debug=True)\n",
        "\n"
      ],
      "metadata": {
        "colab": {
          "base_uri": "https://localhost:8080/",
          "height": 1000
        },
        "id": "56KZLQVOgKsi",
        "outputId": "a9f62985-ec4d-4f8e-9d1f-3e7e3a4a695b"
      },
      "execution_count": 51,
      "outputs": [
        {
          "metadata": {
            "tags": null
          },
          "name": "stdout",
          "output_type": "stream",
          "text": [
            "Drive already mounted at /content/drive; to attempt to forcibly remount, call drive.mount(\"/content/drive\", force_remount=True).\n",
            "Found 37 files belonging to 7 classes.\n",
            "Found 5 files belonging to 7 classes.\n",
            "Found 10 files belonging to 7 classes.\n",
            "Class Names: ['TrashType_Image_Dataset', 'cardboard', 'glass', 'metal', 'paper', 'plastic', 'trash']\n",
            "Class Weights: {np.int32(1): np.float64(1.0277777777777777), np.int32(2): np.float64(0.8809523809523809), np.int32(3): np.float64(0.8809523809523809), np.int32(4): np.float64(1.5416666666666667), np.int32(5): np.float64(0.8809523809523809), np.int32(6): np.float64(1.0277777777777777)}\n"
          ]
        },
        {
          "data": {
            "text/html": [
              "<pre style=\"white-space:pre;overflow-x:auto;line-height:normal;font-family:Menlo,'DejaVu Sans Mono',consolas,'Courier New',monospace\"><span style=\"font-weight: bold\">Model: \"sequential_5\"</span>\n",
              "</pre>\n"
            ],
            "text/plain": [
              "\u001b[1mModel: \"sequential_5\"\u001b[0m\n"
            ]
          },
          "metadata": {},
          "output_type": "display_data"
        },
        {
          "data": {
            "text/html": [
              "<pre style=\"white-space:pre;overflow-x:auto;line-height:normal;font-family:Menlo,'DejaVu Sans Mono',consolas,'Courier New',monospace\">┏━━━━━━━━━━━━━━━━━━━━━━━━━━━━━━━━━┳━━━━━━━━━━━━━━━━━━━━━━━━┳━━━━━━━━━━━━━━━┓\n",
              "┃<span style=\"font-weight: bold\"> Layer (type)                    </span>┃<span style=\"font-weight: bold\"> Output Shape           </span>┃<span style=\"font-weight: bold\">       Param # </span>┃\n",
              "┡━━━━━━━━━━━━━━━━━━━━━━━━━━━━━━━━━╇━━━━━━━━━━━━━━━━━━━━━━━━╇━━━━━━━━━━━━━━━┩\n",
              "│ rescaling_11 (<span style=\"color: #0087ff; text-decoration-color: #0087ff\">Rescaling</span>)        │ ?                      │   <span style=\"color: #00af00; text-decoration-color: #00af00\">0</span> (unbuilt) │\n",
              "├─────────────────────────────────┼────────────────────────┼───────────────┤\n",
              "│ efficientnetv2-b2 (<span style=\"color: #0087ff; text-decoration-color: #0087ff\">Functional</span>)  │ (<span style=\"color: #00d7ff; text-decoration-color: #00d7ff\">None</span>, <span style=\"color: #00af00; text-decoration-color: #00af00\">4</span>, <span style=\"color: #00af00; text-decoration-color: #00af00\">4</span>, <span style=\"color: #00af00; text-decoration-color: #00af00\">1408</span>)     │     <span style=\"color: #00af00; text-decoration-color: #00af00\">8,769,374</span> │\n",
              "├─────────────────────────────────┼────────────────────────┼───────────────┤\n",
              "│ global_average_pooling2d_5      │ ?                      │             <span style=\"color: #00af00; text-decoration-color: #00af00\">0</span> │\n",
              "│ (<span style=\"color: #0087ff; text-decoration-color: #0087ff\">GlobalAveragePooling2D</span>)        │                        │               │\n",
              "├─────────────────────────────────┼────────────────────────┼───────────────┤\n",
              "│ dense_8 (<span style=\"color: #0087ff; text-decoration-color: #0087ff\">Dense</span>)                 │ ?                      │   <span style=\"color: #00af00; text-decoration-color: #00af00\">0</span> (unbuilt) │\n",
              "├─────────────────────────────────┼────────────────────────┼───────────────┤\n",
              "│ dense_9 (<span style=\"color: #0087ff; text-decoration-color: #0087ff\">Dense</span>)                 │ ?                      │   <span style=\"color: #00af00; text-decoration-color: #00af00\">0</span> (unbuilt) │\n",
              "└─────────────────────────────────┴────────────────────────┴───────────────┘\n",
              "</pre>\n"
            ],
            "text/plain": [
              "┏━━━━━━━━━━━━━━━━━━━━━━━━━━━━━━━━━┳━━━━━━━━━━━━━━━━━━━━━━━━┳━━━━━━━━━━━━━━━┓\n",
              "┃\u001b[1m \u001b[0m\u001b[1mLayer (type)                   \u001b[0m\u001b[1m \u001b[0m┃\u001b[1m \u001b[0m\u001b[1mOutput Shape          \u001b[0m\u001b[1m \u001b[0m┃\u001b[1m \u001b[0m\u001b[1m      Param #\u001b[0m\u001b[1m \u001b[0m┃\n",
              "┡━━━━━━━━━━━━━━━━━━━━━━━━━━━━━━━━━╇━━━━━━━━━━━━━━━━━━━━━━━━╇━━━━━━━━━━━━━━━┩\n",
              "│ rescaling_11 (\u001b[38;5;33mRescaling\u001b[0m)        │ ?                      │   \u001b[38;5;34m0\u001b[0m (unbuilt) │\n",
              "├─────────────────────────────────┼────────────────────────┼───────────────┤\n",
              "│ efficientnetv2-b2 (\u001b[38;5;33mFunctional\u001b[0m)  │ (\u001b[38;5;45mNone\u001b[0m, \u001b[38;5;34m4\u001b[0m, \u001b[38;5;34m4\u001b[0m, \u001b[38;5;34m1408\u001b[0m)     │     \u001b[38;5;34m8,769,374\u001b[0m │\n",
              "├─────────────────────────────────┼────────────────────────┼───────────────┤\n",
              "│ global_average_pooling2d_5      │ ?                      │             \u001b[38;5;34m0\u001b[0m │\n",
              "│ (\u001b[38;5;33mGlobalAveragePooling2D\u001b[0m)        │                        │               │\n",
              "├─────────────────────────────────┼────────────────────────┼───────────────┤\n",
              "│ dense_8 (\u001b[38;5;33mDense\u001b[0m)                 │ ?                      │   \u001b[38;5;34m0\u001b[0m (unbuilt) │\n",
              "├─────────────────────────────────┼────────────────────────┼───────────────┤\n",
              "│ dense_9 (\u001b[38;5;33mDense\u001b[0m)                 │ ?                      │   \u001b[38;5;34m0\u001b[0m (unbuilt) │\n",
              "└─────────────────────────────────┴────────────────────────┴───────────────┘\n"
            ]
          },
          "metadata": {},
          "output_type": "display_data"
        },
        {
          "data": {
            "text/html": [
              "<pre style=\"white-space:pre;overflow-x:auto;line-height:normal;font-family:Menlo,'DejaVu Sans Mono',consolas,'Courier New',monospace\"><span style=\"font-weight: bold\"> Total params: </span><span style=\"color: #00af00; text-decoration-color: #00af00\">8,769,374</span> (33.45 MB)\n",
              "</pre>\n"
            ],
            "text/plain": [
              "\u001b[1m Total params: \u001b[0m\u001b[38;5;34m8,769,374\u001b[0m (33.45 MB)\n"
            ]
          },
          "metadata": {},
          "output_type": "display_data"
        },
        {
          "data": {
            "text/html": [
              "<pre style=\"white-space:pre;overflow-x:auto;line-height:normal;font-family:Menlo,'DejaVu Sans Mono',consolas,'Courier New',monospace\"><span style=\"font-weight: bold\"> Trainable params: </span><span style=\"color: #00af00; text-decoration-color: #00af00\">0</span> (0.00 B)\n",
              "</pre>\n"
            ],
            "text/plain": [
              "\u001b[1m Trainable params: \u001b[0m\u001b[38;5;34m0\u001b[0m (0.00 B)\n"
            ]
          },
          "metadata": {},
          "output_type": "display_data"
        },
        {
          "data": {
            "text/html": [
              "<pre style=\"white-space:pre;overflow-x:auto;line-height:normal;font-family:Menlo,'DejaVu Sans Mono',consolas,'Courier New',monospace\"><span style=\"font-weight: bold\"> Non-trainable params: </span><span style=\"color: #00af00; text-decoration-color: #00af00\">8,769,374</span> (33.45 MB)\n",
              "</pre>\n"
            ],
            "text/plain": [
              "\u001b[1m Non-trainable params: \u001b[0m\u001b[38;5;34m8,769,374\u001b[0m (33.45 MB)\n"
            ]
          },
          "metadata": {},
          "output_type": "display_data"
        },
        {
          "metadata": {
            "tags": null
          },
          "name": "stdout",
          "output_type": "stream",
          "text": [
            "Epoch 1/10\n",
            "\u001b[1m2/2\u001b[0m \u001b[32m━━━━━━━━━━━━━━━━━━━━\u001b[0m\u001b[37m\u001b[0m \u001b[1m43s\u001b[0m 6s/step - accuracy: 0.1318 - loss: 1.9507 - val_accuracy: 0.2000 - val_loss: 1.9076\n",
            "Epoch 2/10\n",
            "\u001b[1m2/2\u001b[0m \u001b[32m━━━━━━━━━━━━━━━━━━━━\u001b[0m\u001b[37m\u001b[0m \u001b[1m1s\u001b[0m 554ms/step - accuracy: 0.2843 - loss: 1.8407 - val_accuracy: 0.0000e+00 - val_loss: 1.8802\n",
            "Epoch 3/10\n",
            "\u001b[1m2/2\u001b[0m \u001b[32m━━━━━━━━━━━━━━━━━━━━\u001b[0m\u001b[37m\u001b[0m \u001b[1m2s\u001b[0m 722ms/step - accuracy: 0.1990 - loss: 1.8407 - val_accuracy: 0.2000 - val_loss: 1.7946\n",
            "Epoch 4/10\n",
            "\u001b[1m2/2\u001b[0m \u001b[32m━━━━━━━━━━━━━━━━━━━━\u001b[0m\u001b[37m\u001b[0m \u001b[1m2s\u001b[0m 594ms/step - accuracy: 0.1602 - loss: 1.8130 - val_accuracy: 0.2000 - val_loss: 1.8013\n",
            "Epoch 5/10\n",
            "\u001b[1m2/2\u001b[0m \u001b[32m━━━━━━━━━━━━━━━━━━━━\u001b[0m\u001b[37m\u001b[0m \u001b[1m2s\u001b[0m 437ms/step - accuracy: 0.1990 - loss: 1.8534 - val_accuracy: 0.2000 - val_loss: 1.7925\n",
            "Epoch 6/10\n",
            "\u001b[1m2/2\u001b[0m \u001b[32m━━━━━━━━━━━━━━━━━━━━\u001b[0m\u001b[37m\u001b[0m \u001b[1m1s\u001b[0m 561ms/step - accuracy: 0.1422 - loss: 1.8970 - val_accuracy: 0.2000 - val_loss: 1.7591\n",
            "Epoch 7/10\n",
            "\u001b[1m2/2\u001b[0m \u001b[32m━━━━━━━━━━━━━━━━━━━━\u001b[0m\u001b[37m\u001b[0m \u001b[1m2s\u001b[0m 431ms/step - accuracy: 0.1886 - loss: 1.8443 - val_accuracy: 0.2000 - val_loss: 1.7363\n",
            "Epoch 8/10\n",
            "\u001b[1m2/2\u001b[0m \u001b[32m━━━━━━━━━━━━━━━━━━━━\u001b[0m\u001b[37m\u001b[0m \u001b[1m1s\u001b[0m 325ms/step - accuracy: 0.1602 - loss: 1.8407 - val_accuracy: 0.4000 - val_loss: 1.7524\n",
            "Epoch 9/10\n",
            "\u001b[1m2/2\u001b[0m \u001b[32m━━━━━━━━━━━━━━━━━━━━\u001b[0m\u001b[37m\u001b[0m \u001b[1m1s\u001b[0m 345ms/step - accuracy: 0.2455 - loss: 1.8111 - val_accuracy: 0.2000 - val_loss: 1.7789\n",
            "Epoch 10/10\n",
            "\u001b[1m2/2\u001b[0m \u001b[32m━━━━━━━━━━━━━━━━━━━━\u001b[0m\u001b[37m\u001b[0m \u001b[1m1s\u001b[0m 337ms/step - accuracy: 0.1706 - loss: 1.8736 - val_accuracy: 0.4000 - val_loss: 1.7774\n"
          ]
        },
        {
          "data": {
            "image/png": "[encoded data removed]",
            "text/plain": [
              "<Figure size 1000x800 with 2 Axes>"
            ]
          },
          "metadata": {},
          "output_type": "display_data"
        },
        {
          "metadata": {
            "tags": null
          },
          "name": "stdout",
          "output_type": "stream",
          "text": [
            "\u001b[1m1/1\u001b[0m \u001b[32m━━━━━━━━━━━━━━━━━━━━\u001b[0m\u001b[37m\u001b[0m \u001b[1m0s\u001b[0m 294ms/step - accuracy: 0.2000 - loss: 1.7705\n",
            "Test accuracy: 0.2000, Test loss: 1.7705\n",
            "\u001b[1m1/1\u001b[0m \u001b[32m━━━━━━━━━━━━━━━━━━━━\u001b[0m\u001b[37m\u001b[0m \u001b[1m5s\u001b[0m 5s/step\n",
            "Confusion Matrix:\n",
            " [[0 0 1 0 0 0]\n",
            " [0 0 1 0 0 0]\n",
            " [0 0 2 0 0 0]\n",
            " [0 0 2 0 0 0]\n",
            " [0 0 2 0 0 0]\n",
            " [0 0 2 0 0 0]]\n",
            "                         precision    recall  f1-score   support\n",
            "\n",
            "TrashType_Image_Dataset       0.00      0.00      0.00         0\n",
            "              cardboard       0.00      0.00      0.00         1\n",
            "                  glass       0.00      0.00      0.00         1\n",
            "                  metal       0.20      1.00      0.33         2\n",
            "                  paper       0.00      0.00      0.00         2\n",
            "                plastic       0.00      0.00      0.00         2\n",
            "                  trash       0.00      0.00      0.00         2\n",
            "\n",
            "               accuracy                           0.20        10\n",
            "              macro avg       0.03      0.14      0.05        10\n",
            "           weighted avg       0.04      0.20      0.07        10\n",
            "\n"
          ]
        },
        {
          "metadata": {
            "tags": null
          },
          "name": "stderr",
          "output_type": "stream",
          "text": [
            "/usr/local/lib/python3.11/dist-packages/sklearn/metrics/_classification.py:1565: UndefinedMetricWarning: Precision is ill-defined and being set to 0.0 in labels with no predicted samples. Use `zero_division` parameter to control this behavior.\n",
            "  _warn_prf(average, modifier, f\"{metric.capitalize()} is\", len(result))\n",
            "/usr/local/lib/python3.11/dist-packages/sklearn/metrics/_classification.py:1565: UndefinedMetricWarning: Recall is ill-defined and being set to 0.0 in labels with no true samples. Use `zero_division` parameter to control this behavior.\n",
            "  _warn_prf(average, modifier, f\"{metric.capitalize()} is\", len(result))\n",
            "/usr/local/lib/python3.11/dist-packages/sklearn/metrics/_classification.py:1565: UndefinedMetricWarning: F-score is ill-defined and being set to 0.0 in labels with no true nor predicted samples. Use `zero_division` parameter to control this behavior.\n",
            "  _warn_prf(average, modifier, f\"{metric.capitalize()} is\", len(result))\n",
            "/usr/local/lib/python3.11/dist-packages/sklearn/metrics/_classification.py:1565: UndefinedMetricWarning: Precision is ill-defined and being set to 0.0 in labels with no predicted samples. Use `zero_division` parameter to control this behavior.\n",
            "  _warn_prf(average, modifier, f\"{metric.capitalize()} is\", len(result))\n",
            "/usr/local/lib/python3.11/dist-packages/sklearn/metrics/_classification.py:1565: UndefinedMetricWarning: Recall is ill-defined and being set to 0.0 in labels with no true samples. Use `zero_division` parameter to control this behavior.\n",
            "  _warn_prf(average, modifier, f\"{metric.capitalize()} is\", len(result))\n",
            "/usr/local/lib/python3.11/dist-packages/sklearn/metrics/_classification.py:1565: UndefinedMetricWarning: F-score is ill-defined and being set to 0.0 in labels with no true nor predicted samples. Use `zero_division` parameter to control this behavior.\n",
            "  _warn_prf(average, modifier, f\"{metric.capitalize()} is\", len(result))\n",
            "/usr/local/lib/python3.11/dist-packages/sklearn/metrics/_classification.py:1565: UndefinedMetricWarning: Precision is ill-defined and being set to 0.0 in labels with no predicted samples. Use `zero_division` parameter to control this behavior.\n",
            "  _warn_prf(average, modifier, f\"{metric.capitalize()} is\", len(result))\n",
            "/usr/local/lib/python3.11/dist-packages/sklearn/metrics/_classification.py:1565: UndefinedMetricWarning: Recall is ill-defined and being set to 0.0 in labels with no true samples. Use `zero_division` parameter to control this behavior.\n",
            "  _warn_prf(average, modifier, f\"{metric.capitalize()} is\", len(result))\n",
            "/usr/local/lib/python3.11/dist-packages/sklearn/metrics/_classification.py:1565: UndefinedMetricWarning: F-score is ill-defined and being set to 0.0 in labels with no true nor predicted samples. Use `zero_division` parameter to control this behavior.\n",
            "  _warn_prf(average, modifier, f\"{metric.capitalize()} is\", len(result))\n"
          ]
        },
        {
          "data": {
            "image/png": "[encoded data removed]",
            "text/plain": [
              "<Figure size 1000x800 with 2 Axes>"
            ]
          },
          "metadata": {},
          "output_type": "display_data"
        },
        {
          "metadata": {
            "tags": null
          },
          "name": "stdout",
          "output_type": "stream",
          "text": [
            "It looks like you are running Gradio on a hosted a Jupyter notebook. For the Gradio app to work, sharing must be enabled. Automatically setting `share=True` (you can turn this off by setting `share=False` in `launch()` explicitly).\n",
            "\n",
            "Colab notebook detected. This cell will run indefinitely so that you can see errors and logs. To turn off, set debug=False in launch().\n",
            "* Running on public URL: https://87945435a594b14aea.gradio.live\n",
            "\n",
            "This share link expires in 1 week. For free permanent hosting and GPU upgrades, run `gradio deploy` from the terminal in the working directory to deploy to Hugging Face Spaces (https://huggingface.co/spaces)\n"
          ]
        },
        {
          "data": {
            "text/html": [
              "<div><iframe src=\"https://87945435a594b14aea.gradio.live\" width=\"100%\" height=\"500\" allow=\"autoplay; camera; microphone; clipboard-read; clipboard-write;\" frameborder=\"0\" allowfullscreen></iframe></div>"
            ],
            "text/plain": [
              "<IPython.core.display.HTML object>"
            ]
          },
          "metadata": {},
          "output_type": "display_data"
        },
        {
          "output_type": "stream",
          "name": "stdout",
          "text": [
            "\u001b[1m1/1\u001b[0m \u001b[32m━━━━━━━━━━━━━━━━━━━━\u001b[0m\u001b[37m\u001b[0m \u001b[1m4s\u001b[0m 4s/step\n",
            "Keyboard interruption in main thread... closing server.\n",
            "Killing tunnel 127.0.0.1:7860 <> https://87945435a594b14aea.gradio.live\n"
          ]
        },
        {
          "output_type": "execute_result",
          "data": {
            "text/plain": []
          },
          "metadata": {},
          "execution_count": 51
        }
      ]
    }
  ]
}